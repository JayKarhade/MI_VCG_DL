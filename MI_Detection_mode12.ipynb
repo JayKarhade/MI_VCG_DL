{
  "nbformat": 4,
  "nbformat_minor": 0,
  "metadata": {
    "colab": {
      "name": "MI_Detection_mode12.ipynb",
      "provenance": [],
      "collapsed_sections": [],
      "include_colab_link": true
    },
    "kernelspec": {
      "name": "python3",
      "display_name": "Python 3"
    },
    "language_info": {
      "name": "python"
    },
    "accelerator": "GPU"
  },
  "cells": [
    {
      "cell_type": "markdown",
      "metadata": {
        "id": "view-in-github",
        "colab_type": "text"
      },
      "source": [
        "<a href=\"https://colab.research.google.com/github/JayKarhade/MI_VCG_DL/blob/main/MI_Detection_mode12.ipynb\" target=\"_parent\"><img src=\"https://colab.research.google.com/assets/colab-badge.svg\" alt=\"Open In Colab\"/></a>"
      ]
    },
    {
      "cell_type": "code",
      "metadata": {
        "colab": {
          "base_uri": "https://localhost:8080/"
        },
        "id": "iEvZOTJwEBLS",
        "outputId": "abff6d6a-9727-48bb-a0f0-846fa0312fd9"
      },
      "source": [
        "from google.colab import drive\n",
        "drive.mount('/content/drive')"
      ],
      "execution_count": null,
      "outputs": [
        {
          "output_type": "stream",
          "text": [
            "Mounted at /content/drive\n"
          ],
          "name": "stdout"
        }
      ]
    },
    {
      "cell_type": "code",
      "metadata": {
        "id": "stJXxr-NQWq-"
      },
      "source": [
        "import os \n",
        "import glob \n",
        "import PIL\n",
        "import sklearn\n",
        "import numpy as np\n",
        "import pandas as pd\n",
        "import scipy.io as sio \n",
        "import matplotlib.pyplot as plt\n",
        "import warnings \n",
        "import cv2\n",
        "from sklearn.model_selection import KFold\n",
        "from sklearn import preprocessing\n",
        "from sklearn.metrics import classification_report,confusion_matrix\n",
        "from sklearn.model_selection import train_test_split\n",
        "from sklearn import preprocessing\n",
        "from keras.models import Sequential,Model\n",
        "from keras.layers import Input, Dense, Activation, Flatten, Dropout,BatchNormalization\n",
        "from keras.layers.convolutional import Conv1D\n",
        "from keras.layers.convolutional import MaxPooling1D\n",
        "from keras.optimizers import SGD,Adam\n",
        "from keras.utils import np_utils\n",
        "from sklearn.utils import shuffle\n",
        "from PIL import Image\n",
        "from tensorflow.keras.regularizers import l2\n",
        "#from keras.utils import to_categorical\n",
        "from scipy.io import loadmat\n",
        "from keras import layers\n",
        "import keras\n",
        "from keras import backend as K\n",
        "from sklearn.model_selection import StratifiedKFold"
      ],
      "execution_count": null,
      "outputs": []
    },
    {
      "cell_type": "markdown",
      "metadata": {
        "id": "yl6NfyKvQh4b"
      },
      "source": [
        "**Data Preparation**"
      ]
    },
    {
      "cell_type": "code",
      "metadata": {
        "colab": {
          "base_uri": "https://localhost:8080/"
        },
        "id": "uwx2BFcnD4UO",
        "outputId": "3cbe2c21-750b-4078-9992-40db828e4b61"
      },
      "source": [
        "x = loadmat('/content/drive/MyDrive/MI_Files/myocardial_infarction/s0042lrem/matlab.mat')\n",
        "print(len(x['chm']))\n",
        "print(len(x['chm'][0]))\n",
        "print(len(x['chm'][0][0]))\n",
        "print(len(x['chm'][0][0][0]))"
      ],
      "execution_count": null,
      "outputs": [
        {
          "output_type": "stream",
          "text": [
            "3\n",
            "151\n",
            "5\n",
            "651\n"
          ],
          "name": "stdout"
        }
      ]
    },
    {
      "cell_type": "code",
      "metadata": {
        "id": "nVB11XDoFWfA"
      },
      "source": [
        "x['chm']"
      ],
      "execution_count": null,
      "outputs": []
    },
    {
      "cell_type": "code",
      "metadata": {
        "colab": {
          "base_uri": "https://localhost:8080/"
        },
        "id": "Oxraaqc6QliY",
        "outputId": "4f1c6c03-bb0e-47fe-f2be-ef6afe5fa255"
      },
      "source": [
        "\n",
        "folder_path_class1 = '/content/drive/MyDrive/MI_Files/healthy'\n",
        "folder_path_class2 = '/content/drive/MyDrive/MI_Files/myocardial_infarction'\n",
        "my_list_class1 = os.listdir(folder_path_class1)\n",
        "my_list_class2 = os.listdir(folder_path_class2)\n",
        "\n",
        "data_load = []\n",
        "sum = 0\n",
        "y = []\n",
        "for i in range(len(my_list_class1)):\n",
        "  address = folder_path_class1+'/'+my_list_class1[i]+'/matlab.mat'\n",
        "  temp_data = np.asarray(loadmat(address)['chm'].T)##Get each file content\n",
        "  for j in range(temp_data.shape[0]):\n",
        "    data_load.append(temp_data[j])##Append all instances in each .mat file to data_load\n",
        "    y.append(0)##Class Label\n",
        "  #sum = sum + temp_data.shape[0]##Debugging step to make sure all instances are done\n",
        "\n",
        "#data_load = np.asarray(data_load)\n",
        "#print(data_load.shape)\n",
        "#print(sum)\n",
        "for i in range(len(my_list_class2)):\n",
        "  address = folder_path_class2+'/'+my_list_class2[i]+'/matlab.mat'\n",
        "  temp_data = np.asarray(loadmat(address)['chm'].T)##Get each file content\n",
        "  for j in range(temp_data.shape[0]):\n",
        "    data_load.append(temp_data[j])##Append all instances in each .mat file to data_load\n",
        "    y.append(1) #Class Label\n",
        "  #sum = sum + temp_data.shape[0]##Debugging step to make sure all instances are done\n",
        "\n",
        "data_load = np.asarray(data_load)\n",
        "y = np.asarray(y)\n",
        "print(y.shape)\n",
        "print(data_load.shape)\n",
        "print(sum)\n",
        "\n",
        "#dataset = np.zeros([23696,15,651]) ##considers 5 modes\n",
        "dataset = np.zeros([23696,6,651])\n",
        "\n",
        "##for 5 modes\n",
        "#for i in range(23696): ##total number of instances\n",
        "#  for j in range(3): ##number of channels/beats of vcg\n",
        "#    for k in range(5): ##number of modes\n",
        "#      dataset[i,(5*j) + k] = data_load[i][j][k]\n",
        "##for 2 modes\n",
        "for i in range(23696):\n",
        "  for j in range(3):\n",
        "    for k in range(2):\n",
        "      dataset[i,(2*j) + k] = data_load[i][j][k]\n",
        "\n",
        "data = np.zeros([23696,651,6])\n",
        "for i in range(23696):\n",
        "  data[i] = dataset[i].T\n",
        "\n",
        "\n",
        "#np.save(\"/content/drive/MyDrive/MI_Files/MI_label_mode12.npy\",y)\n",
        "#np.save(\"/content/drive/MyDrive/MI_Files/MIdata_12.npy\",data)"
      ],
      "execution_count": null,
      "outputs": [
        {
          "output_type": "stream",
          "text": [
            "(23696,)\n",
            "(23696, 3)\n",
            "0\n"
          ],
          "name": "stdout"
        }
      ]
    },
    {
      "cell_type": "markdown",
      "metadata": {
        "id": "1fbVXm9uRu8l"
      },
      "source": [
        "**Run from here**"
      ]
    },
    {
      "cell_type": "code",
      "metadata": {
        "id": "KBfnPSKARugw"
      },
      "source": [
        "data = np.load(\"/content/drive/MyDrive/MI_Files/MIdata_12.npy\")\n",
        "y = np.load(\"/content/drive/MyDrive/MI_Files/MI_label_mode12.npy\")"
      ],
      "execution_count": null,
      "outputs": []
    },
    {
      "cell_type": "code",
      "metadata": {
        "colab": {
          "base_uri": "https://localhost:8080/"
        },
        "id": "xYDSMnhYSz6F",
        "outputId": "2c523294-7761-45ee-9fe3-7724630d09c7"
      },
      "source": [
        "data.shape"
      ],
      "execution_count": null,
      "outputs": [
        {
          "output_type": "execute_result",
          "data": {
            "text/plain": [
              "(23696, 651, 6)"
            ]
          },
          "metadata": {
            "tags": []
          },
          "execution_count": 10
        }
      ]
    },
    {
      "cell_type": "code",
      "metadata": {
        "id": "h29pVUQCRzZR"
      },
      "source": [
        "x_train, x_test, y_train, y_test = train_test_split(data, y, test_size=0.1, random_state=1)\n",
        "x_train, x_val, y_train, y_val = train_test_split(x_train, y_train, test_size=1/8, random_state=1)\n",
        "\n",
        "\n",
        "y_tr_one_hot  = np.zeros((np.array(y_train).shape[0],2))\n",
        "\n",
        "for i in range(np.array(y_train).shape[0]):\n",
        " label = y_train[i]\n",
        " y_tr_one_hot[i][int(label)] = 1\n",
        "\n",
        "#y_tr_one_hot = to_categorical(y_train)\n",
        "#y_val_one_hot= to_categorical(y_val)"
      ],
      "execution_count": null,
      "outputs": []
    },
    {
      "cell_type": "code",
      "metadata": {
        "colab": {
          "base_uri": "https://localhost:8080/"
        },
        "id": "BR7u0GISR2RV",
        "outputId": "2321f932-6346-4a38-90b9-0f4c41654a8e"
      },
      "source": [
        "##Define model\n",
        "def model_define():\n",
        "  model=Sequential()\n",
        "  model.add(Conv1D(filters=20, kernel_size=5, activation='relu',input_shape=(651,6)))\n",
        "  model.add(MaxPooling1D(pool_size=3, strides = 3))\n",
        "  model.add(Conv1D(filters=60, kernel_size=5, activation='relu'))\n",
        "  #model.add(Dropout(0.7))\n",
        "  model.add(MaxPooling1D(pool_size=3, strides = 5))\n",
        "  model.add(Conv1D(filters=120, kernel_size=5,))\n",
        "  model.add(Conv1D(filters=120,kernel_size=7,))\n",
        "  model.add(Flatten())\n",
        "  model.add(Dense(2000, activation='relu'))\n",
        "  model.add(Dense(700, activation='relu'))\n",
        "  model.add(Dense(50,activation='relu'))\n",
        "  model.add(Dense(2,activation='sigmoid'))\n",
        "  return model\n",
        "\n",
        "for iter in range(5):\n",
        "  x_train, x_test, y_train, y_test = train_test_split(data, y, test_size=0.1, random_state=1)\n",
        "  x_train, x_val, y_train, y_val = train_test_split(x_train, y_train, test_size=1/8, random_state=1)\n",
        "\n",
        "\n",
        "  y_tr_one_hot  = np.zeros((np.array(y_train).shape[0],2))\n",
        "\n",
        "  for i in range(np.array(y_train).shape[0]):\n",
        "    label = y_train[i]\n",
        "    y_tr_one_hot[i][int(label)] = 1\n",
        "\n",
        "  K.clear_session()\n",
        "  modelf = model_define()\n",
        "\n",
        "  #print(modelf.summary())\n",
        "  optimizer = keras.optimizers.Adam(lr=0.0001)\n",
        "  modelf.compile(loss='categorical_crossentropy', optimizer='adam', metrics=['accuracy'])\n",
        "\n",
        "  y_val_one_hot  = np.zeros((np.array(y_val).shape[0],2))\n",
        "\n",
        "  for i in range(np.array(y_val).shape[0]):\n",
        "    label = y_val[i]\n",
        "    y_val_one_hot[i][int(label)] = 1\n",
        "\n",
        "  hist = modelf.fit(np.array(x_train), y_tr_one_hot, validation_data=(np.array(x_val), y_val_one_hot), epochs=15, batch_size=1024)\n",
        "\n",
        "  y_te_one_hot  = np.zeros((np.array(y_test).shape[0],2))\n",
        "\n",
        "  for i in range(np.array(y_test).shape[0]):\n",
        "    label = y_test[i]\n",
        "    y_te_one_hot[i][int(label)] = 1\n",
        "\n",
        "  test_loss, test_acc = modelf.evaluate(np.array(x_test), np.array(y_te_one_hot), verbose=0)\n",
        "  print('Accuracy:',test_acc)\n",
        "\n",
        "  ##Evaluating Sensitivity, Accuracy and Kappa scores\n",
        "\n",
        "  Y_pred = modelf.predict_classes(x_test)\n",
        "\n",
        "  K_cappa = sklearn.metrics.cohen_kappa_score(y_test,Y_pred)\n",
        "  print(\"cohen kappa scores:\" ,K_cappa)\n",
        "\n",
        "  cm1 = confusion_matrix(y_test,Y_pred)\n",
        "  print(\"confusion matrix \\n\",cm1)\n",
        "\n",
        "  sensitivity1 = cm1[0,0]/(cm1[0,0]+cm1[0,1])\n",
        "  print('Sensitivity : ', sensitivity1 )\n",
        "\n",
        "  specificity1 = cm1[1,1]/(cm1[1,0]+cm1[1,1])\n",
        "  print('Specificity : ', specificity1)\n"
      ],
      "execution_count": null,
      "outputs": [
        {
          "output_type": "stream",
          "text": [
            "/usr/local/lib/python3.7/dist-packages/tensorflow/python/keras/optimizer_v2/optimizer_v2.py:375: UserWarning: The `lr` argument is deprecated, use `learning_rate` instead.\n",
            "  \"The `lr` argument is deprecated, use `learning_rate` instead.\")\n"
          ],
          "name": "stderr"
        },
        {
          "output_type": "stream",
          "text": [
            "Epoch 1/15\n",
            "19/19 [==============================] - 45s 200ms/step - loss: 0.5324 - accuracy: 0.7054 - val_loss: 0.2377 - val_accuracy: 0.9002\n",
            "Epoch 2/15\n",
            "19/19 [==============================] - 2s 111ms/step - loss: 0.2094 - accuracy: 0.9064 - val_loss: 0.1702 - val_accuracy: 0.9314\n",
            "Epoch 3/15\n",
            "19/19 [==============================] - 2s 109ms/step - loss: 0.1316 - accuracy: 0.9482 - val_loss: 0.1057 - val_accuracy: 0.9572\n",
            "Epoch 4/15\n",
            "19/19 [==============================] - 2s 111ms/step - loss: 0.0883 - accuracy: 0.9650 - val_loss: 0.0594 - val_accuracy: 0.9790\n",
            "Epoch 5/15\n",
            "19/19 [==============================] - 2s 110ms/step - loss: 0.0455 - accuracy: 0.9841 - val_loss: 0.0358 - val_accuracy: 0.9891\n",
            "Epoch 6/15\n",
            "19/19 [==============================] - 2s 111ms/step - loss: 0.0252 - accuracy: 0.9911 - val_loss: 0.0172 - val_accuracy: 0.9955\n",
            "Epoch 7/15\n",
            "19/19 [==============================] - 2s 109ms/step - loss: 0.0128 - accuracy: 0.9966 - val_loss: 0.0125 - val_accuracy: 0.9959\n",
            "Epoch 8/15\n",
            "19/19 [==============================] - 2s 112ms/step - loss: 0.0080 - accuracy: 0.9974 - val_loss: 0.0098 - val_accuracy: 0.9970\n",
            "Epoch 9/15\n",
            "19/19 [==============================] - 2s 111ms/step - loss: 0.0039 - accuracy: 0.9992 - val_loss: 0.0078 - val_accuracy: 0.9974\n",
            "Epoch 10/15\n",
            "19/19 [==============================] - 2s 111ms/step - loss: 0.0028 - accuracy: 0.9995 - val_loss: 0.0085 - val_accuracy: 0.9966\n",
            "Epoch 11/15\n",
            "19/19 [==============================] - 2s 111ms/step - loss: 0.0020 - accuracy: 0.9995 - val_loss: 0.0076 - val_accuracy: 0.9977\n",
            "Epoch 12/15\n",
            "19/19 [==============================] - 2s 112ms/step - loss: 9.9659e-04 - accuracy: 0.9998 - val_loss: 0.0027 - val_accuracy: 0.9996\n",
            "Epoch 13/15\n",
            "19/19 [==============================] - 2s 111ms/step - loss: 5.0084e-04 - accuracy: 1.0000 - val_loss: 0.0056 - val_accuracy: 0.9985\n",
            "Epoch 14/15\n",
            "19/19 [==============================] - 2s 110ms/step - loss: 0.0017 - accuracy: 0.9995 - val_loss: 0.0103 - val_accuracy: 0.9966\n",
            "Epoch 15/15\n",
            "19/19 [==============================] - 2s 109ms/step - loss: 0.0055 - accuracy: 0.9976 - val_loss: 0.0151 - val_accuracy: 0.9951\n",
            "Accuracy: 0.9936708807945251\n"
          ],
          "name": "stdout"
        },
        {
          "output_type": "stream",
          "text": [
            "/usr/local/lib/python3.7/dist-packages/keras/engine/sequential.py:450: UserWarning: `model.predict_classes()` is deprecated and will be removed after 2021-01-01. Please use instead:* `np.argmax(model.predict(x), axis=-1)`,   if your model does multi-class classification   (e.g. if it uses a `softmax` last-layer activation).* `(model.predict(x) > 0.5).astype(\"int32\")`,   if your model does binary classification   (e.g. if it uses a `sigmoid` last-layer activation).\n",
            "  warnings.warn('`model.predict_classes()` is deprecated and '\n"
          ],
          "name": "stderr"
        },
        {
          "output_type": "stream",
          "text": [
            "cohen kappa scores: 0.9869729352193933\n",
            "confusion matrix \n",
            " [[ 978    1]\n",
            " [  14 1377]]\n",
            "Sensitivity :  0.9989785495403473\n",
            "Specificity :  0.9899352983465133\n",
            "Epoch 1/15\n",
            "19/19 [==============================] - 4s 137ms/step - loss: 0.5246 - accuracy: 0.7166 - val_loss: 0.2656 - val_accuracy: 0.8818\n",
            "Epoch 2/15\n",
            "19/19 [==============================] - 2s 110ms/step - loss: 0.2105 - accuracy: 0.9047 - val_loss: 0.1376 - val_accuracy: 0.9494\n",
            "Epoch 3/15\n",
            "19/19 [==============================] - 2s 110ms/step - loss: 0.1059 - accuracy: 0.9609 - val_loss: 0.0759 - val_accuracy: 0.9726\n",
            "Epoch 4/15\n",
            "19/19 [==============================] - 2s 117ms/step - loss: 0.0593 - accuracy: 0.9802 - val_loss: 0.0517 - val_accuracy: 0.9831\n",
            "Epoch 5/15\n",
            "19/19 [==============================] - 2s 109ms/step - loss: 0.0325 - accuracy: 0.9896 - val_loss: 0.0238 - val_accuracy: 0.9932\n",
            "Epoch 6/15\n",
            "19/19 [==============================] - 2s 110ms/step - loss: 0.0160 - accuracy: 0.9957 - val_loss: 0.0285 - val_accuracy: 0.9891\n",
            "Epoch 7/15\n",
            "19/19 [==============================] - 2s 109ms/step - loss: 0.0104 - accuracy: 0.9964 - val_loss: 0.0156 - val_accuracy: 0.9947\n",
            "Epoch 8/15\n",
            "19/19 [==============================] - 2s 109ms/step - loss: 0.0104 - accuracy: 0.9966 - val_loss: 0.0151 - val_accuracy: 0.9951\n",
            "Epoch 9/15\n",
            "19/19 [==============================] - 2s 109ms/step - loss: 0.0054 - accuracy: 0.9988 - val_loss: 0.0084 - val_accuracy: 0.9977\n",
            "Epoch 10/15\n",
            "19/19 [==============================] - 2s 110ms/step - loss: 0.0013 - accuracy: 0.9998 - val_loss: 0.0059 - val_accuracy: 0.9985\n",
            "Epoch 11/15\n",
            "19/19 [==============================] - 2s 109ms/step - loss: 0.0016 - accuracy: 0.9996 - val_loss: 0.0070 - val_accuracy: 0.9989\n",
            "Epoch 12/15\n",
            "19/19 [==============================] - 2s 110ms/step - loss: 9.9114e-04 - accuracy: 0.9997 - val_loss: 0.0082 - val_accuracy: 0.9985\n",
            "Epoch 13/15\n",
            "19/19 [==============================] - 2s 112ms/step - loss: 5.5689e-04 - accuracy: 0.9998 - val_loss: 0.0056 - val_accuracy: 0.9989\n",
            "Epoch 14/15\n",
            "19/19 [==============================] - 2s 110ms/step - loss: 0.0011 - accuracy: 0.9995 - val_loss: 0.0102 - val_accuracy: 0.9966\n",
            "Epoch 15/15\n",
            "19/19 [==============================] - 2s 111ms/step - loss: 0.0058 - accuracy: 0.9981 - val_loss: 0.2068 - val_accuracy: 0.9599\n",
            "Accuracy: 0.9637131094932556\n",
            "cohen kappa scores: 0.9242014600386022\n",
            "confusion matrix \n",
            " [[ 894   85]\n",
            " [   1 1390]]\n",
            "Sensitivity :  0.9131767109295199\n",
            "Specificity :  0.9992810927390366\n",
            "Epoch 1/15\n",
            "19/19 [==============================] - 4s 136ms/step - loss: 0.5894 - accuracy: 0.6700 - val_loss: 0.2782 - val_accuracy: 0.8758\n",
            "Epoch 2/15\n",
            "19/19 [==============================] - 2s 108ms/step - loss: 0.2404 - accuracy: 0.8941 - val_loss: 0.1714 - val_accuracy: 0.9359\n",
            "Epoch 3/15\n",
            "19/19 [==============================] - 2s 108ms/step - loss: 0.1397 - accuracy: 0.9428 - val_loss: 0.0912 - val_accuracy: 0.9644\n",
            "Epoch 4/15\n",
            "19/19 [==============================] - 2s 110ms/step - loss: 0.0873 - accuracy: 0.9658 - val_loss: 0.0712 - val_accuracy: 0.9737\n",
            "Epoch 5/15\n",
            "19/19 [==============================] - 2s 110ms/step - loss: 0.0523 - accuracy: 0.9829 - val_loss: 0.0588 - val_accuracy: 0.9786\n",
            "Epoch 6/15\n",
            "19/19 [==============================] - 2s 110ms/step - loss: 0.0335 - accuracy: 0.9883 - val_loss: 0.0170 - val_accuracy: 0.9959\n",
            "Epoch 7/15\n",
            "19/19 [==============================] - 2s 110ms/step - loss: 0.0133 - accuracy: 0.9965 - val_loss: 0.0195 - val_accuracy: 0.9936\n",
            "Epoch 8/15\n",
            "19/19 [==============================] - 2s 112ms/step - loss: 0.0102 - accuracy: 0.9964 - val_loss: 0.0111 - val_accuracy: 0.9977\n",
            "Epoch 9/15\n",
            "19/19 [==============================] - 2s 110ms/step - loss: 0.0100 - accuracy: 0.9970 - val_loss: 0.0137 - val_accuracy: 0.9947\n",
            "Epoch 10/15\n",
            "19/19 [==============================] - 2s 111ms/step - loss: 0.0096 - accuracy: 0.9969 - val_loss: 0.0067 - val_accuracy: 0.9970\n",
            "Epoch 11/15\n",
            "19/19 [==============================] - 2s 110ms/step - loss: 0.0083 - accuracy: 0.9984 - val_loss: 0.0093 - val_accuracy: 0.9977\n",
            "Epoch 12/15\n",
            "19/19 [==============================] - 2s 109ms/step - loss: 0.0069 - accuracy: 0.9985 - val_loss: 0.0110 - val_accuracy: 0.9966\n",
            "Epoch 13/15\n",
            "19/19 [==============================] - 2s 112ms/step - loss: 0.0032 - accuracy: 0.9992 - val_loss: 0.0141 - val_accuracy: 0.9962\n",
            "Epoch 14/15\n",
            "19/19 [==============================] - 2s 109ms/step - loss: 0.0039 - accuracy: 0.9986 - val_loss: 0.0070 - val_accuracy: 0.9981\n",
            "Epoch 15/15\n",
            "19/19 [==============================] - 2s 109ms/step - loss: 0.0033 - accuracy: 0.9991 - val_loss: 0.0048 - val_accuracy: 0.9989\n",
            "Accuracy: 0.999578058719635\n",
            "cohen kappa scores: 0.9991296894864287\n",
            "confusion matrix \n",
            " [[ 978    1]\n",
            " [   0 1391]]\n",
            "Sensitivity :  0.9989785495403473\n",
            "Specificity :  1.0\n",
            "Epoch 1/15\n",
            "19/19 [==============================] - 4s 135ms/step - loss: 0.5836 - accuracy: 0.6756 - val_loss: 0.2822 - val_accuracy: 0.8897\n",
            "Epoch 2/15\n",
            "19/19 [==============================] - 2s 109ms/step - loss: 0.2650 - accuracy: 0.8810 - val_loss: 0.2202 - val_accuracy: 0.9107\n",
            "Epoch 3/15\n",
            "19/19 [==============================] - 2s 111ms/step - loss: 0.1821 - accuracy: 0.9237 - val_loss: 0.1108 - val_accuracy: 0.9580\n",
            "Epoch 4/15\n",
            "19/19 [==============================] - 2s 110ms/step - loss: 0.1034 - accuracy: 0.9626 - val_loss: 0.0843 - val_accuracy: 0.9700\n",
            "Epoch 5/15\n",
            "19/19 [==============================] - 2s 110ms/step - loss: 0.0672 - accuracy: 0.9753 - val_loss: 0.0489 - val_accuracy: 0.9824\n",
            "Epoch 6/15\n",
            "19/19 [==============================] - 2s 109ms/step - loss: 0.0349 - accuracy: 0.9880 - val_loss: 0.0199 - val_accuracy: 0.9944\n",
            "Epoch 7/15\n",
            "19/19 [==============================] - 2s 110ms/step - loss: 0.0196 - accuracy: 0.9941 - val_loss: 0.0167 - val_accuracy: 0.9947\n",
            "Epoch 8/15\n",
            "19/19 [==============================] - 2s 110ms/step - loss: 0.0116 - accuracy: 0.9969 - val_loss: 0.0113 - val_accuracy: 0.9959\n",
            "Epoch 9/15\n",
            "19/19 [==============================] - 2s 110ms/step - loss: 0.0116 - accuracy: 0.9971 - val_loss: 0.0184 - val_accuracy: 0.9936\n",
            "Epoch 10/15\n",
            "19/19 [==============================] - 2s 109ms/step - loss: 0.0291 - accuracy: 0.9896 - val_loss: 0.0628 - val_accuracy: 0.9745\n",
            "Epoch 11/15\n",
            "19/19 [==============================] - 2s 109ms/step - loss: 0.0372 - accuracy: 0.9885 - val_loss: 0.0185 - val_accuracy: 0.9936\n",
            "Epoch 12/15\n",
            "19/19 [==============================] - 2s 110ms/step - loss: 0.0130 - accuracy: 0.9969 - val_loss: 0.0075 - val_accuracy: 0.9974\n",
            "Epoch 13/15\n",
            "19/19 [==============================] - 2s 109ms/step - loss: 0.0028 - accuracy: 0.9992 - val_loss: 0.0082 - val_accuracy: 0.9974\n",
            "Epoch 14/15\n",
            "19/19 [==============================] - 2s 109ms/step - loss: 0.0023 - accuracy: 0.9995 - val_loss: 0.0079 - val_accuracy: 0.9974\n",
            "Epoch 15/15\n",
            "19/19 [==============================] - 2s 109ms/step - loss: 0.0022 - accuracy: 0.9994 - val_loss: 0.0055 - val_accuracy: 0.9985\n",
            "Accuracy: 0.99915611743927\n",
            "cohen kappa scores: 0.9982601686535247\n",
            "confusion matrix \n",
            " [[ 979    0]\n",
            " [   2 1389]]\n",
            "Sensitivity :  1.0\n",
            "Specificity :  0.9985621854780733\n",
            "Epoch 1/15\n",
            "19/19 [==============================] - 4s 137ms/step - loss: 0.5758 - accuracy: 0.6977 - val_loss: 0.2668 - val_accuracy: 0.8845\n",
            "Epoch 2/15\n",
            "19/19 [==============================] - 2s 109ms/step - loss: 0.2581 - accuracy: 0.8883 - val_loss: 0.1650 - val_accuracy: 0.9355\n",
            "Epoch 3/15\n",
            "19/19 [==============================] - 2s 109ms/step - loss: 0.1310 - accuracy: 0.9522 - val_loss: 0.1338 - val_accuracy: 0.9591\n",
            "Epoch 4/15\n",
            "19/19 [==============================] - 2s 109ms/step - loss: 0.0805 - accuracy: 0.9703 - val_loss: 0.0446 - val_accuracy: 0.9869\n",
            "Epoch 5/15\n",
            "19/19 [==============================] - 2s 109ms/step - loss: 0.0423 - accuracy: 0.9872 - val_loss: 0.0382 - val_accuracy: 0.9854\n",
            "Epoch 6/15\n",
            "19/19 [==============================] - 2s 111ms/step - loss: 0.0284 - accuracy: 0.9905 - val_loss: 0.0294 - val_accuracy: 0.9906\n",
            "Epoch 7/15\n",
            "19/19 [==============================] - 2s 110ms/step - loss: 0.0176 - accuracy: 0.9956 - val_loss: 0.0174 - val_accuracy: 0.9944\n",
            "Epoch 8/15\n",
            "19/19 [==============================] - 2s 110ms/step - loss: 0.0096 - accuracy: 0.9971 - val_loss: 0.0258 - val_accuracy: 0.9921\n",
            "Epoch 9/15\n",
            "19/19 [==============================] - 2s 109ms/step - loss: 0.0128 - accuracy: 0.9954 - val_loss: 0.0118 - val_accuracy: 0.9970\n",
            "Epoch 10/15\n",
            "19/19 [==============================] - 2s 109ms/step - loss: 0.0127 - accuracy: 0.9958 - val_loss: 0.0210 - val_accuracy: 0.9925\n",
            "Epoch 11/15\n",
            "19/19 [==============================] - 2s 111ms/step - loss: 0.0094 - accuracy: 0.9965 - val_loss: 0.0286 - val_accuracy: 0.9929\n",
            "Epoch 12/15\n",
            "19/19 [==============================] - 2s 110ms/step - loss: 0.0080 - accuracy: 0.9972 - val_loss: 0.0038 - val_accuracy: 0.9985\n",
            "Epoch 13/15\n",
            "19/19 [==============================] - 2s 110ms/step - loss: 0.0040 - accuracy: 0.9991 - val_loss: 0.0025 - val_accuracy: 0.9992\n",
            "Epoch 14/15\n",
            "19/19 [==============================] - 2s 110ms/step - loss: 0.0020 - accuracy: 0.9996 - val_loss: 0.0015 - val_accuracy: 0.9992\n",
            "Epoch 15/15\n",
            "19/19 [==============================] - 2s 110ms/step - loss: 8.0268e-04 - accuracy: 0.9999 - val_loss: 0.0015 - val_accuracy: 0.9992\n",
            "Accuracy: 0.999578058719635\n",
            "cohen kappa scores: 0.9991296894864287\n",
            "confusion matrix \n",
            " [[ 978    1]\n",
            " [   0 1391]]\n",
            "Sensitivity :  0.9989785495403473\n",
            "Specificity :  1.0\n"
          ],
          "name": "stdout"
        }
      ]
    },
    {
      "cell_type": "code",
      "metadata": {
        "colab": {
          "base_uri": "https://localhost:8080/",
          "height": 316
        },
        "id": "srkUqnLvWXoK",
        "outputId": "1c3fc42c-32a9-46f9-c1f1-d123fafb93d9"
      },
      "source": [
        "##Plot results\n",
        "import matplotlib.pyplot as plt\n",
        "\n",
        "loss_train = hist.history['accuracy']\n",
        "loss_val = hist.history['val_accuracy']\n",
        "epochs = range(0,15)\n",
        "plt.plot(epochs, loss_train, 'g', label='training accuracy')\n",
        "plt.plot(epochs, loss_val, 'b', label='validation accuracy')\n",
        "#plt.title('Training and Validation accuracy')\n",
        "plt.xlabel('Epochs', fontsize=30, fontweight='bold')\n",
        "plt.ylabel('Accuracy',fontsize=30,  fontweight='bold')\n",
        "font = {'family' : 'normal',\n",
        "        'weight' : 'bold',\n",
        "        'size'   : 10}\n",
        "\n",
        "plt.rc('font', **font)\n",
        "\n",
        "plt.legend()\n",
        "plt.show()"
      ],
      "execution_count": null,
      "outputs": [
        {
          "output_type": "stream",
          "text": [
            "findfont: Font family ['normal'] not found. Falling back to DejaVu Sans.\n"
          ],
          "name": "stderr"
        },
        {
          "output_type": "display_data",
          "data": {
            "image/png": "[encoded data removed]",
            "text/plain": [
              "<Figure size 432x288 with 1 Axes>"
            ]
          },
          "metadata": {
            "tags": [],
            "needs_background": "light"
          }
        }
      ]
    },
    {
      "cell_type": "code",
      "metadata": {
        "id": "inQ_6i66XW_0"
      },
      "source": [
        ""
      ],
      "execution_count": null,
      "outputs": []
    },
    {
      "cell_type": "markdown",
      "metadata": {
        "id": "WsNdLzUZT2Yz"
      },
      "source": [
        "**K-Fold Cross Validation**"
      ]
    },
    {
      "cell_type": "code",
      "metadata": {
        "id": "SgA3yG8fT2AY"
      },
      "source": [
        "indices = np.arange(data.shape[0])\n",
        "np.random.shuffle(indices)\n",
        "data_cv = data[indices]\n",
        "y_cv = y[indices]"
      ],
      "execution_count": null,
      "outputs": []
    },
    {
      "cell_type": "code",
      "metadata": {
        "id": "xXxmNWxFT7QV"
      },
      "source": [
        "y_one_hot  = np.zeros((np.array(y_cv).shape[0],2))\n",
        "\n",
        "for i in range(np.array(y_cv).shape[0]):\n",
        "  label = y_cv[i]\n",
        "  y_one_hot[i][int(label)] = 1"
      ],
      "execution_count": null,
      "outputs": []
    },
    {
      "cell_type": "code",
      "metadata": {
        "colab": {
          "base_uri": "https://localhost:8080/",
          "height": 227
        },
        "id": "FzblYNWkT85J",
        "outputId": "5253a96a-045b-44a7-fe6e-16158f88f3b6"
      },
      "source": [
        "##Cross Validation\n",
        "folds=10\n",
        "kfold = StratifiedKFold(n_splits=folds, shuffle=True, random_state=1)\n",
        "#cvscores = []\n",
        "\n",
        "for train,test in kfold.split(data_cv,y_cv):\n",
        "  model=Sequential()\n",
        "  model.add(Conv1D(filters=20, kernel_size=5, activation='relu',input_shape=(651,15)))\n",
        "  model.add(MaxPooling1D(pool_size=3, strides = 3))\n",
        "  model.add(Conv1D(filters=60, kernel_size=5, activation='relu'))\n",
        "  #model.add(Dropout(0.7))\n",
        "  model.add(MaxPooling1D(pool_size=3, strides = 5))\n",
        "  model.add(Conv1D(filters=120, kernel_size=5,))\n",
        "  model.add(Conv1D(filters=120,kernel_size=7,))\n",
        "  model.add(Flatten())\n",
        "  model.add(Dense(2000, activation='relu'))\n",
        "  model.add(Dense(700, activation='relu'))\n",
        "  model.add(Dense(50,activation='relu'))\n",
        "  model.add(Dense(2,activation='sigmoid'))\n",
        "  \n",
        "  opt = keras.optimizers.Adam(learning_rate=0.0001)\n",
        "  model.compile(loss='categorical_crossentropy', optimizer=opt, metrics=['accuracy'])\n",
        "  #Train\n",
        "  model.fit(data_cv[train], y_one_hot[train],batch_size=1024,epochs=15,verbose=1)\n",
        "  #Test\n",
        "  test_loss, test_acc = model.evaluate(data_cv[test],y_one_hot[test],batch_size=8, verbose=1)\n",
        "  #Metrics\n",
        "  print('Accuracy:',test_acc)\n",
        "  Y_pred = model.predict_classes(data_cv[test])\n",
        "\n",
        "  K_cappa = sklearn.metrics.cohen_kappa_score(y_cv[test],Y_pred)\n",
        "  print(\"cohen kappa scores:\" ,K_cappa)\n",
        "\n",
        "  cm1 = confusion_matrix(y_cv[test],Y_pred)\n",
        "  print(\"confusion matrix \\n\",cm1)\n",
        "\n",
        "  sensitivity1 = cm1[0,0]/(cm1[0,0]+cm1[0,1])\n",
        "  print('Sensitivity : ', sensitivity1 )\n",
        "\n",
        "  specificity1 = cm1[1,1]/(cm1[1,0]+cm1[1,1])\n",
        "  print('Specificity : ', specificity1)\n",
        "\n",
        "  #cvscores.append(test_acc)\n",
        "  K.clear_session()"
      ],
      "execution_count": null,
      "outputs": [
        {
          "output_type": "error",
          "ename": "NameError",
          "evalue": "ignored",
          "traceback": [
            "\u001b[0;31m---------------------------------------------------------------------------\u001b[0m",
            "\u001b[0;31mNameError\u001b[0m                                 Traceback (most recent call last)",
            "\u001b[0;32m<ipython-input-3-699bb22fc711>\u001b[0m in \u001b[0;36m<module>\u001b[0;34m()\u001b[0m\n\u001b[1;32m      4\u001b[0m \u001b[0;31m#cvscores = []\u001b[0m\u001b[0;34m\u001b[0m\u001b[0;34m\u001b[0m\u001b[0;34m\u001b[0m\u001b[0m\n\u001b[1;32m      5\u001b[0m \u001b[0;34m\u001b[0m\u001b[0m\n\u001b[0;32m----> 6\u001b[0;31m \u001b[0;32mfor\u001b[0m \u001b[0mtrain\u001b[0m\u001b[0;34m,\u001b[0m\u001b[0mtest\u001b[0m \u001b[0;32min\u001b[0m \u001b[0mkfold\u001b[0m\u001b[0;34m.\u001b[0m\u001b[0msplit\u001b[0m\u001b[0;34m(\u001b[0m\u001b[0mdata_cv\u001b[0m\u001b[0;34m,\u001b[0m\u001b[0my_cv\u001b[0m\u001b[0;34m)\u001b[0m\u001b[0;34m:\u001b[0m\u001b[0;34m\u001b[0m\u001b[0;34m\u001b[0m\u001b[0m\n\u001b[0m\u001b[1;32m      7\u001b[0m   \u001b[0mmodel\u001b[0m\u001b[0;34m=\u001b[0m\u001b[0mSequential\u001b[0m\u001b[0;34m(\u001b[0m\u001b[0;34m)\u001b[0m\u001b[0;34m\u001b[0m\u001b[0;34m\u001b[0m\u001b[0m\n\u001b[1;32m      8\u001b[0m   \u001b[0mmodel\u001b[0m\u001b[0;34m.\u001b[0m\u001b[0madd\u001b[0m\u001b[0;34m(\u001b[0m\u001b[0mConv1D\u001b[0m\u001b[0;34m(\u001b[0m\u001b[0mfilters\u001b[0m\u001b[0;34m=\u001b[0m\u001b[0;36m20\u001b[0m\u001b[0;34m,\u001b[0m \u001b[0mkernel_size\u001b[0m\u001b[0;34m=\u001b[0m\u001b[0;36m5\u001b[0m\u001b[0;34m,\u001b[0m \u001b[0mactivation\u001b[0m\u001b[0;34m=\u001b[0m\u001b[0;34m'relu'\u001b[0m\u001b[0;34m,\u001b[0m\u001b[0minput_shape\u001b[0m\u001b[0;34m=\u001b[0m\u001b[0;34m(\u001b[0m\u001b[0;36m651\u001b[0m\u001b[0;34m,\u001b[0m\u001b[0;36m15\u001b[0m\u001b[0;34m)\u001b[0m\u001b[0;34m)\u001b[0m\u001b[0;34m)\u001b[0m\u001b[0;34m\u001b[0m\u001b[0;34m\u001b[0m\u001b[0m\n",
            "\u001b[0;31mNameError\u001b[0m: name 'data_cv' is not defined"
          ]
        }
      ]
    }
  ]
}