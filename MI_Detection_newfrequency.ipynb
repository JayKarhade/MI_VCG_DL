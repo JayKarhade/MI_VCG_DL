{
  "nbformat": 4,
  "nbformat_minor": 0,
  "metadata": {
    "colab": {
      "name": "MI_Detection_newfrequency.ipynb",
      "provenance": [],
      "collapsed_sections": [],
      "include_colab_link": true
    },
    "kernelspec": {
      "name": "python3",
      "display_name": "Python 3"
    },
    "language_info": {
      "name": "python"
    },
    "accelerator": "GPU"
  },
  "cells": [
    {
      "cell_type": "markdown",
      "metadata": {
        "id": "view-in-github",
        "colab_type": "text"
      },
      "source": [
        "<a href=\"https://colab.research.google.com/github/JayKarhade/MI_VCG_DL/blob/main/MI_Detection_newfrequency.ipynb\" target=\"_parent\"><img src=\"https://colab.research.google.com/assets/colab-badge.svg\" alt=\"Open In Colab\"/></a>"
      ]
    },
    {
      "cell_type": "code",
      "metadata": {
        "id": "iEvZOTJwEBLS"
      },
      "source": [
        "from google.colab import drive\n",
        "drive.mount('/content/drive')"
      ],
      "execution_count": null,
      "outputs": []
    },
    {
      "cell_type": "code",
      "metadata": {
        "id": "stJXxr-NQWq-"
      },
      "source": [
        "import os \n",
        "import glob \n",
        "import PIL\n",
        "import sklearn\n",
        "import numpy as np\n",
        "import pandas as pd\n",
        "import scipy.io as sio \n",
        "import matplotlib.pyplot as plt\n",
        "import warnings \n",
        "import cv2\n",
        "from sklearn.model_selection import KFold\n",
        "from sklearn import preprocessing\n",
        "from sklearn.metrics import classification_report,confusion_matrix\n",
        "from sklearn.model_selection import train_test_split\n",
        "from sklearn import preprocessing\n",
        "from keras.models import Sequential,Model\n",
        "from keras.layers import Input, Dense, Activation, Flatten, Dropout,BatchNormalization\n",
        "from keras.layers.convolutional import Conv1D\n",
        "from keras.layers.convolutional import MaxPooling1D\n",
        "from keras.optimizers import SGD,Adam\n",
        "from keras.utils import np_utils\n",
        "from sklearn.utils import shuffle\n",
        "from PIL import Image\n",
        "from tensorflow.keras.regularizers import l2\n",
        "#from keras.utils import to_categorical\n",
        "from scipy.io import loadmat\n",
        "from keras import layers\n",
        "import keras\n",
        "from keras import backend as K\n",
        "from sklearn.model_selection import StratifiedKFold"
      ],
      "execution_count": 5,
      "outputs": []
    },
    {
      "cell_type": "markdown",
      "metadata": {
        "id": "yl6NfyKvQh4b"
      },
      "source": [
        "**Data Preparation**"
      ]
    },
    {
      "cell_type": "code",
      "metadata": {
        "colab": {
          "base_uri": "https://localhost:8080/"
        },
        "id": "Oxraaqc6QliY",
        "outputId": "77c29431-cc2e-4dbc-a60a-017cae0549b3"
      },
      "source": [
        "'''\n",
        "folder_path_class1 = '/content/drive/MyDrive/mvmd_vcg_mi_detection/healthycontrol'\n",
        "folder_path_class2 = '/content/drive/MyDrive/mvmd_vcg_mi_detection/myocardialinfraction'\n",
        "\n",
        "my_list_class1 = os.listdir(folder_path_class1)\n",
        "my_list_class2 = os.listdir(folder_path_class2)\n",
        "\n",
        "data_load = []\n",
        "sum = 0\n",
        "y = []\n",
        "for i in range(len(my_list_class1)):\n",
        "  address = folder_path_class1+'/'+my_list_class1[i]\n",
        "  temp_data = np.asarray(loadmat(address)['chm'].T)##Get each file content\n",
        "  for j in range(temp_data.shape[0]):\n",
        "    data_load.append(temp_data[j])##Append all instances in each .mat file to data_load\n",
        "    y.append(0)##Class Label\n",
        "  #sum = sum + temp_data.shape[0]##Debugging step to make sure all instances are done\n",
        "\n",
        "#data_load = np.asarray(data_load)\n",
        "#print(data_load.shape)\n",
        "#print(sum)\n",
        "for i in range(len(my_list_class2)):\n",
        "  address = folder_path_class2+'/'+my_list_class2[i]\n",
        "  temp_data = np.asarray(loadmat(address)['chm'].T)##Get each file content\n",
        "  for j in range(temp_data.shape[0]):\n",
        "    data_load.append(temp_data[j])##Append all instances in each .mat file to data_load\n",
        "    y.append(1) #Class Label\n",
        "  #sum = sum + temp_data.shape[0]##Debugging step to make sure all instances are done\n",
        "\n",
        "data_load = np.asarray(data_load)\n",
        "y = np.asarray(y)\n",
        "print(y.shape)\n",
        "print(data_load.shape)\n",
        "print(sum)\n",
        "\n",
        "dataset = np.zeros([y.shape[0],15,651]) ##considers 5 modes\n",
        "\n",
        "##for 5 modes\n",
        "for i in range(dataset.shape[0]): ##total number of instances\n",
        "  for j in range(3): ##number of channels/beats of vcg\n",
        "    for k in range(5): ##number of modes\n",
        "      dataset[i,(5*j) + k] = data_load[i][j][k]\n",
        "\n",
        "data = np.zeros([y.shape[0],651,15])\n",
        "for i in range(dataset.shape[0]):\n",
        "  data[i] = dataset[i].T\n",
        "\n",
        "np.save(\"/content/drive/MyDrive/mvmd_vcg_mi_detection/detection_label\",y)\n",
        "np.save(\"/content/drive/MyDrive/mvmd_vcg_mi_detection/detection_data\",data)\n",
        "'''"
      ],
      "execution_count": 18,
      "outputs": [
        {
          "output_type": "stream",
          "text": [
            "(24278,)\n",
            "(24278, 3)\n",
            "0\n"
          ],
          "name": "stdout"
        }
      ]
    },
    {
      "cell_type": "code",
      "metadata": {
        "colab": {
          "base_uri": "https://localhost:8080/"
        },
        "id": "Qg89M8Flq5Iy",
        "outputId": "df60f6f6-4c58-43ee-cf5c-5cef315ec759"
      },
      "source": [
        "dataset.shape"
      ],
      "execution_count": 10,
      "outputs": [
        {
          "output_type": "execute_result",
          "data": {
            "text/plain": [
              "(24278, 15, 651)"
            ]
          },
          "metadata": {
            "tags": []
          },
          "execution_count": 10
        }
      ]
    },
    {
      "cell_type": "markdown",
      "metadata": {
        "id": "1fbVXm9uRu8l"
      },
      "source": [
        "**Run from here**"
      ]
    },
    {
      "cell_type": "code",
      "metadata": {
        "id": "KBfnPSKARugw"
      },
      "source": [
        "data = np.load(\"/content/drive/MyDrive/mvmd_vcg_mi_detection/detection_data.npy\")\n",
        "y = np.load(\"/content/drive/MyDrive/mvmd_vcg_mi_detection/detection_label.npy\")"
      ],
      "execution_count": 6,
      "outputs": []
    },
    {
      "cell_type": "code",
      "metadata": {
        "colab": {
          "base_uri": "https://localhost:8080/"
        },
        "id": "xYDSMnhYSz6F",
        "outputId": "83d052f5-ead6-4f27-9a26-c321eaab278e"
      },
      "source": [
        "data.shape"
      ],
      "execution_count": 7,
      "outputs": [
        {
          "output_type": "execute_result",
          "data": {
            "text/plain": [
              "(24278, 651, 15)"
            ]
          },
          "metadata": {
            "tags": []
          },
          "execution_count": 7
        }
      ]
    },
    {
      "cell_type": "code",
      "metadata": {
        "id": "h29pVUQCRzZR"
      },
      "source": [
        "x_train, x_test, y_train, y_test = train_test_split(data, y, test_size=0.1, random_state=1)\n",
        "x_train, x_val, y_train, y_val = train_test_split(x_train, y_train, test_size=1/8, random_state=1)\n",
        "\n",
        "\n",
        "y_tr_one_hot  = np.zeros((np.array(y_train).shape[0],2))\n",
        "\n",
        "for i in range(np.array(y_train).shape[0]):\n",
        " label = y_train[i]\n",
        " y_tr_one_hot[i][int(label)] = 1\n",
        "\n",
        "#y_tr_one_hot = to_categorical(y_train)\n",
        "#y_val_one_hot= to_categorical(y_val)"
      ],
      "execution_count": null,
      "outputs": []
    },
    {
      "cell_type": "code",
      "metadata": {
        "colab": {
          "base_uri": "https://localhost:8080/"
        },
        "id": "BR7u0GISR2RV",
        "outputId": "47349ca2-0185-4ebb-ac07-bc5bbc3a140d"
      },
      "source": [
        "##Define model\n",
        "def model_define():\n",
        "  model=Sequential()\n",
        "  model.add(Conv1D(filters=20, kernel_size=5, activation='relu',input_shape=(651,15)))\n",
        "  model.add(MaxPooling1D(pool_size=3, strides = 3))\n",
        "  model.add(Conv1D(filters=60, kernel_size=5, activation='relu'))\n",
        "  #model.add(Dropout(0.7))\n",
        "  model.add(MaxPooling1D(pool_size=3, strides = 5))\n",
        "  model.add(Conv1D(filters=120, kernel_size=5,))\n",
        "  model.add(Conv1D(filters=120,kernel_size=7,))\n",
        "  model.add(Flatten())\n",
        "  model.add(Dense(2000, activation='relu'))\n",
        "  model.add(Dense(700, activation='relu'))\n",
        "  model.add(Dense(50,activation='relu'))\n",
        "  model.add(Dense(2,activation='sigmoid'))\n",
        "  return model\n",
        "\n",
        "for iter in range(5):\n",
        "  x_train, x_test, y_train, y_test = train_test_split(data, y, test_size=0.1, random_state=1)\n",
        "  x_train, x_val, y_train, y_val = train_test_split(x_train, y_train, test_size=1/8, random_state=1)\n",
        "\n",
        "\n",
        "  y_tr_one_hot  = np.zeros((np.array(y_train).shape[0],2))\n",
        "\n",
        "  for i in range(np.array(y_train).shape[0]):\n",
        "    label = y_train[i]\n",
        "    y_tr_one_hot[i][int(label)] = 1\n",
        "\n",
        "  K.clear_session()\n",
        "  modelf = model_define()\n",
        "\n",
        "  #print(modelf.summary())\n",
        "  optimizer = keras.optimizers.Adam(lr=0.0001)\n",
        "  modelf.compile(loss='categorical_crossentropy', optimizer='adam', metrics=['accuracy'])\n",
        "\n",
        "  y_val_one_hot  = np.zeros((np.array(y_val).shape[0],2))\n",
        "\n",
        "  for i in range(np.array(y_val).shape[0]):\n",
        "    label = y_val[i]\n",
        "    y_val_one_hot[i][int(label)] = 1\n",
        "\n",
        "  hist = modelf.fit(np.array(x_train), y_tr_one_hot, validation_data=(np.array(x_val), y_val_one_hot), epochs=15, batch_size=1024)\n",
        "\n",
        "  y_te_one_hot  = np.zeros((np.array(y_test).shape[0],2))\n",
        "\n",
        "  for i in range(np.array(y_test).shape[0]):\n",
        "    label = y_test[i]\n",
        "    y_te_one_hot[i][int(label)] = 1\n",
        "\n",
        "  test_loss, test_acc = modelf.evaluate(np.array(x_test), np.array(y_te_one_hot), verbose=0)\n",
        "  print('Accuracy:',test_acc)\n",
        "\n",
        "  ##Evaluating Sensitivity, Accuracy and Kappa scores\n",
        "\n",
        "  Y_pred = modelf.predict_classes(x_test)\n",
        "\n",
        "  K_cappa = sklearn.metrics.cohen_kappa_score(y_test,Y_pred)\n",
        "  print(\"cohen kappa scores:\" ,K_cappa)\n",
        "\n",
        "  cm1 = confusion_matrix(y_test,Y_pred)\n",
        "  print(\"confusion matrix \\n\",cm1)\n",
        "\n",
        "  sensitivity1 = cm1[0,0]/(cm1[0,0]+cm1[0,1])\n",
        "  print('Sensitivity : ', sensitivity1 )\n",
        "\n",
        "  specificity1 = cm1[1,1]/(cm1[1,0]+cm1[1,1])\n",
        "  print('Specificity : ', specificity1)\n"
      ],
      "execution_count": 8,
      "outputs": [
        {
          "output_type": "stream",
          "text": [
            "/usr/local/lib/python3.7/dist-packages/tensorflow/python/keras/optimizer_v2/optimizer_v2.py:375: UserWarning: The `lr` argument is deprecated, use `learning_rate` instead.\n",
            "  \"The `lr` argument is deprecated, use `learning_rate` instead.\")\n"
          ],
          "name": "stderr"
        },
        {
          "output_type": "stream",
          "text": [
            "Epoch 1/15\n",
            "19/19 [==============================] - 47s 172ms/step - loss: 0.4512 - accuracy: 0.7460 - val_loss: 0.0726 - val_accuracy: 0.9780\n",
            "Epoch 2/15\n",
            "19/19 [==============================] - 1s 63ms/step - loss: 0.0374 - accuracy: 0.9861 - val_loss: 0.0078 - val_accuracy: 0.9978\n",
            "Epoch 3/15\n",
            "19/19 [==============================] - 1s 64ms/step - loss: 0.0033 - accuracy: 0.9991 - val_loss: 0.0073 - val_accuracy: 0.9985\n",
            "Epoch 4/15\n",
            "19/19 [==============================] - 1s 64ms/step - loss: 0.0012 - accuracy: 0.9996 - val_loss: 0.0071 - val_accuracy: 0.9985\n",
            "Epoch 5/15\n",
            "19/19 [==============================] - 1s 64ms/step - loss: 0.0012 - accuracy: 0.9998 - val_loss: 0.0019 - val_accuracy: 0.9996\n",
            "Epoch 6/15\n",
            "19/19 [==============================] - 1s 64ms/step - loss: 4.9673e-04 - accuracy: 0.9999 - val_loss: 0.0048 - val_accuracy: 0.9989\n",
            "Epoch 7/15\n",
            "19/19 [==============================] - 1s 64ms/step - loss: 2.1484e-04 - accuracy: 1.0000 - val_loss: 0.0024 - val_accuracy: 0.9989\n",
            "Epoch 8/15\n",
            "19/19 [==============================] - 1s 63ms/step - loss: 3.5552e-05 - accuracy: 1.0000 - val_loss: 0.0021 - val_accuracy: 0.9989\n",
            "Epoch 9/15\n",
            "19/19 [==============================] - 1s 64ms/step - loss: 1.6976e-05 - accuracy: 1.0000 - val_loss: 0.0022 - val_accuracy: 0.9989\n",
            "Epoch 10/15\n",
            "19/19 [==============================] - 1s 63ms/step - loss: 9.4081e-06 - accuracy: 1.0000 - val_loss: 0.0021 - val_accuracy: 0.9989\n",
            "Epoch 11/15\n",
            "19/19 [==============================] - 1s 65ms/step - loss: 8.6817e-06 - accuracy: 1.0000 - val_loss: 0.0019 - val_accuracy: 0.9989\n",
            "Epoch 12/15\n",
            "19/19 [==============================] - 1s 62ms/step - loss: 5.9226e-06 - accuracy: 1.0000 - val_loss: 0.0017 - val_accuracy: 0.9989\n",
            "Epoch 13/15\n",
            "19/19 [==============================] - 1s 64ms/step - loss: 6.6520e-06 - accuracy: 1.0000 - val_loss: 0.0017 - val_accuracy: 0.9989\n",
            "Epoch 14/15\n",
            "19/19 [==============================] - 1s 64ms/step - loss: 5.4348e-06 - accuracy: 1.0000 - val_loss: 0.0016 - val_accuracy: 0.9989\n",
            "Epoch 15/15\n",
            "19/19 [==============================] - 1s 64ms/step - loss: 4.7930e-06 - accuracy: 1.0000 - val_loss: 0.0016 - val_accuracy: 0.9989\n",
            "Accuracy: 0.9991762638092041\n"
          ],
          "name": "stdout"
        },
        {
          "output_type": "stream",
          "text": [
            "/usr/local/lib/python3.7/dist-packages/keras/engine/sequential.py:450: UserWarning: `model.predict_classes()` is deprecated and will be removed after 2021-01-01. Please use instead:* `np.argmax(model.predict(x), axis=-1)`,   if your model does multi-class classification   (e.g. if it uses a `softmax` last-layer activation).* `(model.predict(x) > 0.5).astype(\"int32\")`,   if your model does binary classification   (e.g. if it uses a `sigmoid` last-layer activation).\n",
            "  warnings.warn('`model.predict_classes()` is deprecated and '\n"
          ],
          "name": "stderr"
        },
        {
          "output_type": "stream",
          "text": [
            "cohen kappa scores: 0.9983037123409119\n",
            "confusion matrix \n",
            " [[1007    2]\n",
            " [   0 1419]]\n",
            "Sensitivity :  0.998017839444995\n",
            "Specificity :  1.0\n",
            "Epoch 1/15\n",
            "19/19 [==============================] - 3s 94ms/step - loss: 0.4747 - accuracy: 0.7303 - val_loss: 0.1294 - val_accuracy: 0.9488\n",
            "Epoch 2/15\n",
            "19/19 [==============================] - 1s 64ms/step - loss: 0.0811 - accuracy: 0.9671 - val_loss: 0.0309 - val_accuracy: 0.9930\n",
            "Epoch 3/15\n",
            "19/19 [==============================] - 1s 68ms/step - loss: 0.0113 - accuracy: 0.9970 - val_loss: 0.0147 - val_accuracy: 0.9952\n",
            "Epoch 4/15\n",
            "19/19 [==============================] - 1s 65ms/step - loss: 0.0047 - accuracy: 0.9985 - val_loss: 0.0035 - val_accuracy: 0.9989\n",
            "Epoch 5/15\n",
            "19/19 [==============================] - 1s 65ms/step - loss: 7.5783e-04 - accuracy: 0.9998 - val_loss: 0.0036 - val_accuracy: 0.9989\n",
            "Epoch 6/15\n",
            "19/19 [==============================] - 1s 64ms/step - loss: 5.0693e-04 - accuracy: 0.9998 - val_loss: 0.0031 - val_accuracy: 0.9993\n",
            "Epoch 7/15\n",
            "19/19 [==============================] - 1s 64ms/step - loss: 4.7890e-04 - accuracy: 1.0000 - val_loss: 0.0062 - val_accuracy: 0.9982\n",
            "Epoch 8/15\n",
            "19/19 [==============================] - 1s 63ms/step - loss: 2.0662e-04 - accuracy: 1.0000 - val_loss: 0.0036 - val_accuracy: 0.9993\n",
            "Epoch 9/15\n",
            "19/19 [==============================] - 1s 65ms/step - loss: 1.3809e-04 - accuracy: 0.9999 - val_loss: 0.0033 - val_accuracy: 0.9993\n",
            "Epoch 10/15\n",
            "19/19 [==============================] - 1s 68ms/step - loss: 4.0324e-05 - accuracy: 1.0000 - val_loss: 0.0045 - val_accuracy: 0.9989\n",
            "Epoch 11/15\n",
            "19/19 [==============================] - 1s 65ms/step - loss: 2.4378e-05 - accuracy: 1.0000 - val_loss: 0.0051 - val_accuracy: 0.9985\n",
            "Epoch 12/15\n",
            "19/19 [==============================] - 1s 65ms/step - loss: 1.3769e-05 - accuracy: 1.0000 - val_loss: 0.0052 - val_accuracy: 0.9989\n",
            "Epoch 13/15\n",
            "19/19 [==============================] - 1s 65ms/step - loss: 9.6809e-06 - accuracy: 1.0000 - val_loss: 0.0051 - val_accuracy: 0.9989\n",
            "Epoch 14/15\n",
            "19/19 [==============================] - 1s 64ms/step - loss: 8.4236e-06 - accuracy: 1.0000 - val_loss: 0.0051 - val_accuracy: 0.9989\n",
            "Epoch 15/15\n",
            "19/19 [==============================] - 1s 64ms/step - loss: 6.9458e-06 - accuracy: 1.0000 - val_loss: 0.0052 - val_accuracy: 0.9989\n",
            "Accuracy: 0.999588131904602\n",
            "cohen kappa scores: 0.9991519776245035\n",
            "confusion matrix \n",
            " [[1008    1]\n",
            " [   0 1419]]\n",
            "Sensitivity :  0.9990089197224975\n",
            "Specificity :  1.0\n",
            "Epoch 1/15\n",
            "19/19 [==============================] - 3s 92ms/step - loss: 0.4696 - accuracy: 0.7111 - val_loss: 0.1024 - val_accuracy: 0.9641\n",
            "Epoch 2/15\n",
            "19/19 [==============================] - 1s 64ms/step - loss: 0.0646 - accuracy: 0.9770 - val_loss: 0.0191 - val_accuracy: 0.9952\n",
            "Epoch 3/15\n",
            "19/19 [==============================] - 1s 65ms/step - loss: 0.0120 - accuracy: 0.9966 - val_loss: 0.0042 - val_accuracy: 0.9993\n",
            "Epoch 4/15\n",
            "19/19 [==============================] - 1s 65ms/step - loss: 0.0013 - accuracy: 0.9996 - val_loss: 0.0049 - val_accuracy: 0.9993\n",
            "Epoch 5/15\n",
            "19/19 [==============================] - 1s 65ms/step - loss: 4.8459e-04 - accuracy: 1.0000 - val_loss: 0.0010 - val_accuracy: 0.9996\n",
            "Epoch 6/15\n",
            "19/19 [==============================] - 1s 66ms/step - loss: 5.7144e-04 - accuracy: 0.9999 - val_loss: 0.0012 - val_accuracy: 0.9996\n",
            "Epoch 7/15\n",
            "19/19 [==============================] - 1s 63ms/step - loss: 8.9464e-04 - accuracy: 0.9996 - val_loss: 0.0012 - val_accuracy: 0.9996\n",
            "Epoch 8/15\n",
            "19/19 [==============================] - 1s 65ms/step - loss: 0.0014 - accuracy: 0.9998 - val_loss: 0.0012 - val_accuracy: 0.9996\n",
            "Epoch 9/15\n",
            "19/19 [==============================] - 1s 65ms/step - loss: 2.1068e-04 - accuracy: 1.0000 - val_loss: 3.2927e-04 - val_accuracy: 1.0000\n",
            "Epoch 10/15\n",
            "19/19 [==============================] - 1s 65ms/step - loss: 5.5602e-05 - accuracy: 1.0000 - val_loss: 5.5655e-04 - val_accuracy: 0.9996\n",
            "Epoch 11/15\n",
            "19/19 [==============================] - 1s 64ms/step - loss: 2.5297e-05 - accuracy: 1.0000 - val_loss: 3.6029e-04 - val_accuracy: 0.9996\n",
            "Epoch 12/15\n",
            "19/19 [==============================] - 1s 65ms/step - loss: 2.4851e-05 - accuracy: 1.0000 - val_loss: 5.5914e-04 - val_accuracy: 0.9996\n",
            "Epoch 13/15\n",
            "19/19 [==============================] - 1s 64ms/step - loss: 1.3855e-05 - accuracy: 1.0000 - val_loss: 5.2041e-04 - val_accuracy: 0.9996\n",
            "Epoch 14/15\n",
            "19/19 [==============================] - 1s 66ms/step - loss: 1.3480e-05 - accuracy: 1.0000 - val_loss: 5.7887e-04 - val_accuracy: 0.9996\n",
            "Epoch 15/15\n",
            "19/19 [==============================] - 1s 65ms/step - loss: 1.1458e-05 - accuracy: 1.0000 - val_loss: 6.2974e-04 - val_accuracy: 0.9996\n",
            "Accuracy: 0.9991762638092041\n",
            "cohen kappa scores: 0.9983037123409119\n",
            "confusion matrix \n",
            " [[1007    2]\n",
            " [   0 1419]]\n",
            "Sensitivity :  0.998017839444995\n",
            "Specificity :  1.0\n",
            "Epoch 1/15\n",
            "19/19 [==============================] - 3s 93ms/step - loss: 0.4626 - accuracy: 0.7250 - val_loss: 0.0810 - val_accuracy: 0.9685\n",
            "Epoch 2/15\n",
            "19/19 [==============================] - 1s 66ms/step - loss: 0.0593 - accuracy: 0.9773 - val_loss: 0.0176 - val_accuracy: 0.9971\n",
            "Epoch 3/15\n",
            "19/19 [==============================] - 1s 64ms/step - loss: 0.0098 - accuracy: 0.9975 - val_loss: 0.0138 - val_accuracy: 0.9949\n",
            "Epoch 4/15\n",
            "19/19 [==============================] - 1s 69ms/step - loss: 0.0070 - accuracy: 0.9979 - val_loss: 0.0037 - val_accuracy: 0.9985\n",
            "Epoch 5/15\n",
            "19/19 [==============================] - 1s 70ms/step - loss: 0.0035 - accuracy: 0.9990 - val_loss: 0.0017 - val_accuracy: 0.9996\n",
            "Epoch 6/15\n",
            "19/19 [==============================] - 1s 66ms/step - loss: 0.0015 - accuracy: 0.9996 - val_loss: 0.0034 - val_accuracy: 0.9996\n",
            "Epoch 7/15\n",
            "19/19 [==============================] - 1s 66ms/step - loss: 0.0014 - accuracy: 0.9997 - val_loss: 3.0698e-04 - val_accuracy: 1.0000\n",
            "Epoch 8/15\n",
            "19/19 [==============================] - 1s 65ms/step - loss: 4.3428e-04 - accuracy: 0.9998 - val_loss: 0.0016 - val_accuracy: 0.9993\n",
            "Epoch 9/15\n",
            "19/19 [==============================] - 1s 66ms/step - loss: 7.3491e-05 - accuracy: 1.0000 - val_loss: 0.0012 - val_accuracy: 0.9993\n",
            "Epoch 10/15\n",
            "19/19 [==============================] - 1s 67ms/step - loss: 3.7142e-05 - accuracy: 1.0000 - val_loss: 6.9146e-04 - val_accuracy: 0.9996\n",
            "Epoch 11/15\n",
            "19/19 [==============================] - 1s 67ms/step - loss: 3.1068e-05 - accuracy: 1.0000 - val_loss: 3.9391e-04 - val_accuracy: 0.9996\n",
            "Epoch 12/15\n",
            "19/19 [==============================] - 1s 66ms/step - loss: 1.9984e-05 - accuracy: 1.0000 - val_loss: 6.2049e-04 - val_accuracy: 0.9996\n",
            "Epoch 13/15\n",
            "19/19 [==============================] - 1s 65ms/step - loss: 1.6148e-05 - accuracy: 1.0000 - val_loss: 4.9496e-04 - val_accuracy: 0.9996\n",
            "Epoch 14/15\n",
            "19/19 [==============================] - 1s 68ms/step - loss: 1.1568e-05 - accuracy: 1.0000 - val_loss: 5.3086e-04 - val_accuracy: 0.9996\n",
            "Epoch 15/15\n",
            "19/19 [==============================] - 1s 65ms/step - loss: 1.0587e-05 - accuracy: 1.0000 - val_loss: 4.6826e-04 - val_accuracy: 0.9996\n",
            "Accuracy: 0.999588131904602\n",
            "cohen kappa scores: 0.9991519776245035\n",
            "confusion matrix \n",
            " [[1008    1]\n",
            " [   0 1419]]\n",
            "Sensitivity :  0.9990089197224975\n",
            "Specificity :  1.0\n",
            "Epoch 1/15\n",
            "19/19 [==============================] - 3s 100ms/step - loss: 0.5290 - accuracy: 0.7350 - val_loss: 0.1424 - val_accuracy: 0.9528\n",
            "Epoch 2/15\n",
            "19/19 [==============================] - 1s 66ms/step - loss: 0.0988 - accuracy: 0.9641 - val_loss: 0.0217 - val_accuracy: 0.9941\n",
            "Epoch 3/15\n",
            "19/19 [==============================] - 1s 66ms/step - loss: 0.0105 - accuracy: 0.9971 - val_loss: 0.0061 - val_accuracy: 0.9985\n",
            "Epoch 4/15\n",
            "19/19 [==============================] - 1s 67ms/step - loss: 0.0018 - accuracy: 0.9995 - val_loss: 0.0020 - val_accuracy: 0.9993\n",
            "Epoch 5/15\n",
            "19/19 [==============================] - 1s 67ms/step - loss: 7.2495e-04 - accuracy: 0.9998 - val_loss: 0.0061 - val_accuracy: 0.9985\n",
            "Epoch 6/15\n",
            "19/19 [==============================] - 1s 67ms/step - loss: 6.5800e-04 - accuracy: 0.9999 - val_loss: 0.0069 - val_accuracy: 0.9985\n",
            "Epoch 7/15\n",
            "19/19 [==============================] - 1s 67ms/step - loss: 5.9613e-04 - accuracy: 0.9998 - val_loss: 0.0025 - val_accuracy: 0.9985\n",
            "Epoch 8/15\n",
            "19/19 [==============================] - 1s 67ms/step - loss: 1.4868e-04 - accuracy: 1.0000 - val_loss: 0.0023 - val_accuracy: 0.9993\n",
            "Epoch 9/15\n",
            "19/19 [==============================] - 1s 68ms/step - loss: 4.7316e-05 - accuracy: 1.0000 - val_loss: 0.0022 - val_accuracy: 0.9993\n",
            "Epoch 10/15\n",
            "19/19 [==============================] - 1s 65ms/step - loss: 2.2419e-05 - accuracy: 1.0000 - val_loss: 0.0022 - val_accuracy: 0.9993\n",
            "Epoch 11/15\n",
            "19/19 [==============================] - 1s 66ms/step - loss: 2.2961e-05 - accuracy: 1.0000 - val_loss: 0.0022 - val_accuracy: 0.9993\n",
            "Epoch 12/15\n",
            "19/19 [==============================] - 1s 68ms/step - loss: 1.6775e-05 - accuracy: 1.0000 - val_loss: 0.0022 - val_accuracy: 0.9993\n",
            "Epoch 13/15\n",
            "19/19 [==============================] - 1s 67ms/step - loss: 1.4906e-05 - accuracy: 1.0000 - val_loss: 0.0022 - val_accuracy: 0.9993\n",
            "Epoch 14/15\n",
            "19/19 [==============================] - 1s 66ms/step - loss: 1.0664e-05 - accuracy: 1.0000 - val_loss: 0.0023 - val_accuracy: 0.9993\n",
            "Epoch 15/15\n",
            "19/19 [==============================] - 1s 66ms/step - loss: 1.0017e-05 - accuracy: 1.0000 - val_loss: 0.0022 - val_accuracy: 0.9993\n",
            "Accuracy: 0.9991762638092041\n",
            "cohen kappa scores: 0.9983037123409119\n",
            "confusion matrix \n",
            " [[1007    2]\n",
            " [   0 1419]]\n",
            "Sensitivity :  0.998017839444995\n",
            "Specificity :  1.0\n"
          ],
          "name": "stdout"
        }
      ]
    },
    {
      "cell_type": "code",
      "metadata": {
        "colab": {
          "base_uri": "https://localhost:8080/",
          "height": 316
        },
        "id": "srkUqnLvWXoK",
        "outputId": "9609dd06-acdf-448a-f93a-1166dc9955a1"
      },
      "source": [
        "##Plot results\n",
        "import matplotlib.pyplot as plt\n",
        "\n",
        "loss_train = hist.history['accuracy']\n",
        "loss_val = hist.history['val_accuracy']\n",
        "epochs = range(0,15)\n",
        "plt.plot(epochs, loss_train, 'g', label='training accuracy')\n",
        "plt.plot(epochs, loss_val, 'b', label='validation accuracy')\n",
        "#plt.title('Training and Validation accuracy')\n",
        "plt.xlabel('Epochs', fontsize=30, fontweight='bold')\n",
        "plt.ylabel('Accuracy',fontsize=30,  fontweight='bold')\n",
        "font = {'family' : 'normal',\n",
        "        'weight' : 'bold',\n",
        "        'size'   : 10}\n",
        "\n",
        "plt.rc('font', **font)\n",
        "\n",
        "plt.legend()\n",
        "plt.show()"
      ],
      "execution_count": 9,
      "outputs": [
        {
          "output_type": "stream",
          "text": [
            "findfont: Font family ['normal'] not found. Falling back to DejaVu Sans.\n"
          ],
          "name": "stderr"
        },
        {
          "output_type": "display_data",
          "data": {
            "image/png": "[encoded data removed]",
            "text/plain": [
              "<Figure size 432x288 with 1 Axes>"
            ]
          },
          "metadata": {
            "tags": [],
            "needs_background": "light"
          }
        }
      ]
    },
    {
      "cell_type": "code",
      "metadata": {
        "id": "inQ_6i66XW_0"
      },
      "source": [
        ""
      ],
      "execution_count": null,
      "outputs": []
    },
    {
      "cell_type": "markdown",
      "metadata": {
        "id": "WsNdLzUZT2Yz"
      },
      "source": [
        "**K-Fold Cross Validation**"
      ]
    },
    {
      "cell_type": "code",
      "metadata": {
        "id": "SgA3yG8fT2AY"
      },
      "source": [
        "indices = np.arange(data.shape[0])\n",
        "np.random.shuffle(indices)\n",
        "data_cv = data[indices]\n",
        "y_cv = y[indices]"
      ],
      "execution_count": 10,
      "outputs": []
    },
    {
      "cell_type": "code",
      "metadata": {
        "id": "xXxmNWxFT7QV"
      },
      "source": [
        "y_one_hot  = np.zeros((np.array(y_cv).shape[0],2))\n",
        "\n",
        "for i in range(np.array(y_cv).shape[0]):\n",
        "  label = y_cv[i]\n",
        "  y_one_hot[i][int(label)] = 1"
      ],
      "execution_count": 11,
      "outputs": []
    },
    {
      "cell_type": "code",
      "metadata": {
        "id": "FzblYNWkT85J"
      },
      "source": [
        "##Cross Validation\n",
        "folds=10\n",
        "kfold = StratifiedKFold(n_splits=folds, shuffle=True, random_state=1)\n",
        "#cvscores = []\n",
        "\n",
        "for train,test in kfold.split(data_cv,y_cv):\n",
        "  model=Sequential()\n",
        "  model.add(Conv1D(filters=20, kernel_size=5, activation='relu',input_shape=(651,15)))\n",
        "  model.add(MaxPooling1D(pool_size=3, strides = 3))\n",
        "  model.add(Conv1D(filters=60, kernel_size=5, activation='relu'))\n",
        "  #model.add(Dropout(0.7))\n",
        "  model.add(MaxPooling1D(pool_size=3, strides = 5))\n",
        "  model.add(Conv1D(filters=120, kernel_size=5,))\n",
        "  model.add(Conv1D(filters=120,kernel_size=7,))\n",
        "  model.add(Flatten())\n",
        "  model.add(Dense(2000, activation='relu'))\n",
        "  model.add(Dense(700, activation='relu'))\n",
        "  model.add(Dense(50,activation='relu'))\n",
        "  model.add(Dense(2,activation='sigmoid'))\n",
        "  \n",
        "  opt = keras.optimizers.Adam(learning_rate=0.0001)\n",
        "  model.compile(loss='categorical_crossentropy', optimizer=opt, metrics=['accuracy'])\n",
        "  #Train\n",
        "  model.fit(data_cv[train], y_one_hot[train],batch_size=1024,epochs=15,verbose=1)\n",
        "  #Test\n",
        "  test_loss, test_acc = model.evaluate(data_cv[test],y_one_hot[test],batch_size=8, verbose=1)\n",
        "  #Metrics\n",
        "  print('Accuracy:',test_acc)\n",
        "  Y_pred = model.predict_classes(data_cv[test])\n",
        "\n",
        "  K_cappa = sklearn.metrics.cohen_kappa_score(y_cv[test],Y_pred)\n",
        "  print(\"cohen kappa scores:\" ,K_cappa)\n",
        "\n",
        "  cm1 = confusion_matrix(y_cv[test],Y_pred)\n",
        "  print(\"confusion matrix \\n\",cm1)\n",
        "\n",
        "  sensitivity1 = cm1[0,0]/(cm1[0,0]+cm1[0,1])\n",
        "  print('Sensitivity : ', sensitivity1 )\n",
        "\n",
        "  specificity1 = cm1[1,1]/(cm1[1,0]+cm1[1,1])\n",
        "  print('Specificity : ', specificity1)\n",
        "\n",
        "  #cvscores.append(test_acc)\n",
        "  K.clear_session()"
      ],
      "execution_count": null,
      "outputs": []
    },
    {
      "cell_type": "code",
      "metadata": {
        "id": "VKfeJmnnvvMz"
      },
      "source": [
        ""
      ],
      "execution_count": null,
      "outputs": []
    }
  ]
}