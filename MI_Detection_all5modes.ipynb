{
  "nbformat": 4,
  "nbformat_minor": 0,
  "metadata": {
    "colab": {
      "name": "MI_Detection_all5modes.ipynb",
      "provenance": [],
      "collapsed_sections": [],
      "include_colab_link": true
    },
    "kernelspec": {
      "name": "python3",
      "display_name": "Python 3"
    },
    "language_info": {
      "name": "python"
    },
    "accelerator": "GPU"
  },
  "cells": [
    {
      "cell_type": "markdown",
      "metadata": {
        "id": "view-in-github",
        "colab_type": "text"
      },
      "source": [
        "<a href=\"https://colab.research.google.com/github/JayKarhade/MI_VCG_DL/blob/main/MI_Detection_all5modes.ipynb\" target=\"_parent\"><img src=\"https://colab.research.google.com/assets/colab-badge.svg\" alt=\"Open In Colab\"/></a>"
      ]
    },
    {
      "cell_type": "code",
      "metadata": {
        "colab": {
          "base_uri": "https://localhost:8080/"
        },
        "id": "iEvZOTJwEBLS",
        "outputId": "abff6d6a-9727-48bb-a0f0-846fa0312fd9"
      },
      "source": [
        "from google.colab import drive\n",
        "drive.mount('/content/drive')"
      ],
      "execution_count": null,
      "outputs": [
        {
          "output_type": "stream",
          "text": [
            "Mounted at /content/drive\n"
          ],
          "name": "stdout"
        }
      ]
    },
    {
      "cell_type": "code",
      "metadata": {
        "id": "stJXxr-NQWq-"
      },
      "source": [
        "import os \n",
        "import glob \n",
        "import PIL\n",
        "import sklearn\n",
        "import numpy as np\n",
        "import pandas as pd\n",
        "import scipy.io as sio \n",
        "import matplotlib.pyplot as plt\n",
        "import warnings \n",
        "import cv2\n",
        "from sklearn.model_selection import KFold\n",
        "from sklearn import preprocessing\n",
        "from sklearn.metrics import classification_report,confusion_matrix\n",
        "from sklearn.model_selection import train_test_split\n",
        "from sklearn import preprocessing\n",
        "from keras.models import Sequential,Model\n",
        "from keras.layers import Input, Dense, Activation, Flatten, Dropout,BatchNormalization\n",
        "from keras.layers.convolutional import Conv1D\n",
        "from keras.layers.convolutional import MaxPooling1D\n",
        "from keras.optimizers import SGD,Adam\n",
        "from keras.utils import np_utils\n",
        "from sklearn.utils import shuffle\n",
        "from PIL import Image\n",
        "from tensorflow.keras.regularizers import l2\n",
        "#from keras.utils import to_categorical\n",
        "from scipy.io import loadmat\n",
        "from keras import layers\n",
        "import keras\n",
        "from keras import backend as K\n",
        "from sklearn.model_selection import StratifiedKFold"
      ],
      "execution_count": null,
      "outputs": []
    },
    {
      "cell_type": "markdown",
      "metadata": {
        "id": "yl6NfyKvQh4b"
      },
      "source": [
        "**Data Preparation**"
      ]
    },
    {
      "cell_type": "code",
      "metadata": {
        "colab": {
          "base_uri": "https://localhost:8080/"
        },
        "id": "uwx2BFcnD4UO",
        "outputId": "3cbe2c21-750b-4078-9992-40db828e4b61"
      },
      "source": [
        "x = loadmat('/content/drive/MyDrive/MI_Files/myocardial_infarction/s0042lrem/matlab.mat')\n",
        "print(len(x['chm']))\n",
        "print(len(x['chm'][0]))\n",
        "print(len(x['chm'][0][0]))\n",
        "print(len(x['chm'][0][0][0]))"
      ],
      "execution_count": null,
      "outputs": [
        {
          "output_type": "stream",
          "text": [
            "3\n",
            "151\n",
            "5\n",
            "651\n"
          ],
          "name": "stdout"
        }
      ]
    },
    {
      "cell_type": "code",
      "metadata": {
        "id": "nVB11XDoFWfA"
      },
      "source": [
        "x['chm']"
      ],
      "execution_count": null,
      "outputs": []
    },
    {
      "cell_type": "code",
      "metadata": {
        "colab": {
          "base_uri": "https://localhost:8080/"
        },
        "id": "Oxraaqc6QliY",
        "outputId": "4f1c6c03-bb0e-47fe-f2be-ef6afe5fa255"
      },
      "source": [
        "\n",
        "folder_path_class1 = '/content/drive/MyDrive/MI_Files/healthy'\n",
        "folder_path_class2 = '/content/drive/MyDrive/MI_Files/myocardial_infarction'\n",
        "my_list_class1 = os.listdir(folder_path_class1)\n",
        "my_list_class2 = os.listdir(folder_path_class2)\n",
        "\n",
        "data_load = []\n",
        "sum = 0\n",
        "y = []\n",
        "for i in range(len(my_list_class1)):\n",
        "  address = folder_path_class1+'/'+my_list_class1[i]+'/matlab.mat'\n",
        "  temp_data = np.asarray(loadmat(address)['chm'].T)##Get each file content\n",
        "  for j in range(temp_data.shape[0]):\n",
        "    data_load.append(temp_data[j])##Append all instances in each .mat file to data_load\n",
        "    y.append(0)##Class Label\n",
        "  #sum = sum + temp_data.shape[0]##Debugging step to make sure all instances are done\n",
        "\n",
        "#data_load = np.asarray(data_load)\n",
        "#print(data_load.shape)\n",
        "#print(sum)\n",
        "for i in range(len(my_list_class2)):\n",
        "  address = folder_path_class2+'/'+my_list_class2[i]+'/matlab.mat'\n",
        "  temp_data = np.asarray(loadmat(address)['chm'].T)##Get each file content\n",
        "  for j in range(temp_data.shape[0]):\n",
        "    data_load.append(temp_data[j])##Append all instances in each .mat file to data_load\n",
        "    y.append(1) #Class Label\n",
        "  #sum = sum + temp_data.shape[0]##Debugging step to make sure all instances are done\n",
        "\n",
        "data_load = np.asarray(data_load)\n",
        "y = np.asarray(y)\n",
        "print(y.shape)\n",
        "print(data_load.shape)\n",
        "print(sum)\n",
        "\n",
        "#dataset = np.zeros([23696,15,651]) ##considers 5 modes\n",
        "dataset = np.zeros([23696,6,651])\n",
        "\n",
        "##for 5 modes\n",
        "#for i in range(23696): ##total number of instances\n",
        "#  for j in range(3): ##number of channels/beats of vcg\n",
        "#    for k in range(5): ##number of modes\n",
        "#      dataset[i,(5*j) + k] = data_load[i][j][k]\n",
        "##for 2 modes\n",
        "for i in range(23696):\n",
        "  for j in range(3):\n",
        "    for k in range(2):\n",
        "      dataset[i,(2*j) + k] = data_load[i][j][k]\n",
        "\n",
        "data = np.zeros([23696,651,6])\n",
        "for i in range(23696):\n",
        "  data[i] = dataset[i].T\n",
        "\n",
        "\n",
        "#np.save(\"/content/drive/MyDrive/MI_Files/MI_label_mode12.npy\",y)\n",
        "#np.save(\"/content/drive/MyDrive/MI_Files/MIdata_12.npy\",data)"
      ],
      "execution_count": null,
      "outputs": [
        {
          "output_type": "stream",
          "text": [
            "(23696,)\n",
            "(23696, 3)\n",
            "0\n"
          ],
          "name": "stdout"
        }
      ]
    },
    {
      "cell_type": "markdown",
      "metadata": {
        "id": "1fbVXm9uRu8l"
      },
      "source": [
        "**Run from here**"
      ]
    },
    {
      "cell_type": "code",
      "metadata": {
        "id": "KBfnPSKARugw"
      },
      "source": [
        "data = np.load(\"/content/drive/MyDrive/MI_Files/MIdata_12.npy\")\n",
        "y = np.load(\"/content/drive/MyDrive/MI_Files/MI_label_mode12.npy\")"
      ],
      "execution_count": null,
      "outputs": []
    },
    {
      "cell_type": "code",
      "metadata": {
        "colab": {
          "base_uri": "https://localhost:8080/"
        },
        "id": "xYDSMnhYSz6F",
        "outputId": "e5c3f442-e780-41f1-e5bc-dfd0b86e57e5"
      },
      "source": [
        "y.shape"
      ],
      "execution_count": null,
      "outputs": [
        {
          "output_type": "execute_result",
          "data": {
            "text/plain": [
              "(23696,)"
            ]
          },
          "metadata": {
            "tags": []
          },
          "execution_count": 5
        }
      ]
    },
    {
      "cell_type": "code",
      "metadata": {
        "id": "h29pVUQCRzZR"
      },
      "source": [
        "x_train, x_test, y_train, y_test = train_test_split(data, y, test_size=0.1, random_state=1)\n",
        "x_train, x_val, y_train, y_val = train_test_split(x_train, y_train, test_size=1/8, random_state=1)\n",
        "\n",
        "\n",
        "y_tr_one_hot  = np.zeros((np.array(y_train).shape[0],2))\n",
        "\n",
        "for i in range(np.array(y_train).shape[0]):\n",
        " label = y_train[i]\n",
        " y_tr_one_hot[i][int(label)] = 1\n",
        "\n",
        "#y_tr_one_hot = to_categorical(y_train)\n",
        "#y_val_one_hot= to_categorical(y_val)"
      ],
      "execution_count": null,
      "outputs": []
    },
    {
      "cell_type": "code",
      "metadata": {
        "colab": {
          "base_uri": "https://localhost:8080/"
        },
        "id": "BR7u0GISR2RV",
        "outputId": "40b8d191-d65c-4fcb-ff8f-df9279749f8f"
      },
      "source": [
        "##Define model\n",
        "def model_define():\n",
        "  model=Sequential()\n",
        "  model.add(Conv1D(filters=20, kernel_size=5, activation='relu',input_shape=(651,15)))\n",
        "  model.add(MaxPooling1D(pool_size=3, strides = 3))\n",
        "  model.add(Conv1D(filters=60, kernel_size=5, activation='relu'))\n",
        "  #model.add(Dropout(0.7))\n",
        "  model.add(MaxPooling1D(pool_size=3, strides = 5))\n",
        "  model.add(Conv1D(filters=120, kernel_size=5,))\n",
        "  model.add(Conv1D(filters=120,kernel_size=7,))\n",
        "  model.add(Flatten())\n",
        "  model.add(Dense(2000, activation='relu'))\n",
        "  model.add(Dense(700, activation='relu'))\n",
        "  model.add(Dense(50,activation='relu'))\n",
        "  model.add(Dense(2,activation='sigmoid'))\n",
        "  return model\n",
        "\n",
        "for iter in range(5):\n",
        "  x_train, x_test, y_train, y_test = train_test_split(data, y, test_size=0.1, random_state=1)\n",
        "  x_train, x_val, y_train, y_val = train_test_split(x_train, y_train, test_size=1/8, random_state=1)\n",
        "\n",
        "\n",
        "  y_tr_one_hot  = np.zeros((np.array(y_train).shape[0],2))\n",
        "\n",
        "  for i in range(np.array(y_train).shape[0]):\n",
        "    label = y_train[i]\n",
        "    y_tr_one_hot[i][int(label)] = 1\n",
        "\n",
        "  K.clear_session()\n",
        "  modelf = model_define()\n",
        "\n",
        "  #print(modelf.summary())\n",
        "  optimizer = keras.optimizers.Adam(lr=0.0001)\n",
        "  modelf.compile(loss='categorical_crossentropy', optimizer='adam', metrics=['accuracy'])\n",
        "\n",
        "  y_val_one_hot  = np.zeros((np.array(y_val).shape[0],2))\n",
        "\n",
        "  for i in range(np.array(y_val).shape[0]):\n",
        "    label = y_val[i]\n",
        "    y_val_one_hot[i][int(label)] = 1\n",
        "\n",
        "  hist = modelf.fit(np.array(x_train), y_tr_one_hot, validation_data=(np.array(x_val), y_val_one_hot), epochs=15, batch_size=1024)\n",
        "\n",
        "  y_te_one_hot  = np.zeros((np.array(y_test).shape[0],2))\n",
        "\n",
        "  for i in range(np.array(y_test).shape[0]):\n",
        "    label = y_test[i]\n",
        "    y_te_one_hot[i][int(label)] = 1\n",
        "\n",
        "  test_loss, test_acc = modelf.evaluate(np.array(x_test), np.array(y_te_one_hot), verbose=0)\n",
        "  print('Accuracy:',test_acc)\n",
        "\n",
        "  ##Evaluating Sensitivity, Accuracy and Kappa scores\n",
        "\n",
        "  Y_pred = modelf.predict_classes(x_test)\n",
        "\n",
        "  K_cappa = sklearn.metrics.cohen_kappa_score(y_test,Y_pred)\n",
        "  print(\"cohen kappa scores:\" ,K_cappa)\n",
        "\n",
        "  cm1 = confusion_matrix(y_test,Y_pred)\n",
        "  print(\"confusion matrix \\n\",cm1)\n",
        "\n",
        "  sensitivity1 = cm1[0,0]/(cm1[0,0]+cm1[0,1])\n",
        "  print('Sensitivity : ', sensitivity1 )\n",
        "\n",
        "  specificity1 = cm1[1,1]/(cm1[1,0]+cm1[1,1])\n",
        "  print('Specificity : ', specificity1)\n"
      ],
      "execution_count": null,
      "outputs": [
        {
          "output_type": "stream",
          "text": [
            "Epoch 1/15\n",
            "19/19 [==============================] - 28s 138ms/step - loss: 0.5706 - accuracy: 0.6774 - val_loss: 0.2929 - val_accuracy: 0.8740\n",
            "Epoch 2/15\n",
            "19/19 [==============================] - 1s 64ms/step - loss: 0.2635 - accuracy: 0.8851 - val_loss: 0.1909 - val_accuracy: 0.9182\n",
            "Epoch 3/15\n",
            "19/19 [==============================] - 1s 63ms/step - loss: 0.1669 - accuracy: 0.9284 - val_loss: 0.0792 - val_accuracy: 0.9689\n",
            "Epoch 4/15\n",
            "19/19 [==============================] - 1s 63ms/step - loss: 0.0540 - accuracy: 0.9805 - val_loss: 0.0870 - val_accuracy: 0.9674\n",
            "Epoch 5/15\n",
            "19/19 [==============================] - 1s 63ms/step - loss: 0.0418 - accuracy: 0.9857 - val_loss: 0.0236 - val_accuracy: 0.9932\n",
            "Epoch 6/15\n",
            "19/19 [==============================] - 1s 64ms/step - loss: 0.0100 - accuracy: 0.9970 - val_loss: 0.0111 - val_accuracy: 0.9962\n",
            "Epoch 7/15\n",
            "19/19 [==============================] - 1s 64ms/step - loss: 0.0031 - accuracy: 0.9992 - val_loss: 0.0079 - val_accuracy: 0.9974\n",
            "Epoch 8/15\n",
            "19/19 [==============================] - 1s 64ms/step - loss: 0.0048 - accuracy: 0.9988 - val_loss: 0.0054 - val_accuracy: 0.9985\n",
            "Epoch 9/15\n",
            "19/19 [==============================] - 1s 63ms/step - loss: 0.0034 - accuracy: 0.9995 - val_loss: 0.0040 - val_accuracy: 0.9996\n",
            "Epoch 10/15\n",
            "19/19 [==============================] - 1s 66ms/step - loss: 0.0034 - accuracy: 0.9989 - val_loss: 0.0031 - val_accuracy: 0.9996\n",
            "Epoch 11/15\n",
            "19/19 [==============================] - 1s 64ms/step - loss: 0.0013 - accuracy: 0.9998 - val_loss: 0.0025 - val_accuracy: 0.9992\n",
            "Epoch 12/15\n",
            "19/19 [==============================] - 1s 64ms/step - loss: 5.4317e-04 - accuracy: 0.9999 - val_loss: 0.0022 - val_accuracy: 0.9989\n",
            "Epoch 13/15\n",
            "19/19 [==============================] - 1s 65ms/step - loss: 0.0018 - accuracy: 0.9994 - val_loss: 0.0079 - val_accuracy: 0.9985\n",
            "Epoch 14/15\n",
            "19/19 [==============================] - 1s 64ms/step - loss: 0.0026 - accuracy: 0.9993 - val_loss: 0.0058 - val_accuracy: 0.9981\n",
            "Epoch 15/15\n",
            "19/19 [==============================] - 1s 63ms/step - loss: 0.0012 - accuracy: 0.9996 - val_loss: 0.0225 - val_accuracy: 0.9936\n",
            "Accuracy: 0.9928269982337952\n"
          ],
          "name": "stdout"
        },
        {
          "output_type": "stream",
          "text": [
            "/usr/local/lib/python3.7/dist-packages/tensorflow/python/keras/engine/sequential.py:450: UserWarning: `model.predict_classes()` is deprecated and will be removed after 2021-01-01. Please use instead:* `np.argmax(model.predict(x), axis=-1)`,   if your model does multi-class classification   (e.g. if it uses a `softmax` last-layer activation).* `(model.predict(x) > 0.5).astype(\"int32\")`,   if your model does binary classification   (e.g. if it uses a `sigmoid` last-layer activation).\n",
            "  warnings.warn('`model.predict_classes()` is deprecated and '\n"
          ],
          "name": "stderr"
        },
        {
          "output_type": "stream",
          "text": [
            "cohen kappa scores: 0.9851823029106532\n",
            "confusion matrix \n",
            " [[ 965   14]\n",
            " [   3 1388]]\n",
            "Sensitivity :  0.9856996935648621\n",
            "Specificity :  0.9978432782171099\n",
            "Epoch 1/15\n",
            "19/19 [==============================] - 2s 89ms/step - loss: 0.5400 - accuracy: 0.6830 - val_loss: 0.2779 - val_accuracy: 0.8725\n",
            "Epoch 2/15\n",
            "19/19 [==============================] - 1s 64ms/step - loss: 0.2060 - accuracy: 0.9089 - val_loss: 0.1099 - val_accuracy: 0.9580\n",
            "Epoch 3/15\n",
            "19/19 [==============================] - 1s 64ms/step - loss: 0.0823 - accuracy: 0.9698 - val_loss: 0.0410 - val_accuracy: 0.9857\n",
            "Epoch 4/15\n",
            "19/19 [==============================] - 1s 64ms/step - loss: 0.0420 - accuracy: 0.9869 - val_loss: 0.0218 - val_accuracy: 0.9944\n",
            "Epoch 5/15\n",
            "19/19 [==============================] - 1s 65ms/step - loss: 0.0144 - accuracy: 0.9960 - val_loss: 0.0141 - val_accuracy: 0.9955\n",
            "Epoch 6/15\n",
            "19/19 [==============================] - 1s 64ms/step - loss: 0.0084 - accuracy: 0.9978 - val_loss: 0.0077 - val_accuracy: 0.9981\n",
            "Epoch 7/15\n",
            "19/19 [==============================] - 1s 64ms/step - loss: 0.0061 - accuracy: 0.9980 - val_loss: 0.0049 - val_accuracy: 0.9985\n",
            "Epoch 8/15\n",
            "19/19 [==============================] - 1s 65ms/step - loss: 0.0044 - accuracy: 0.9987 - val_loss: 0.0036 - val_accuracy: 0.9981\n",
            "Epoch 9/15\n",
            "19/19 [==============================] - 1s 64ms/step - loss: 0.0026 - accuracy: 0.9994 - val_loss: 0.0069 - val_accuracy: 0.9974\n",
            "Epoch 10/15\n",
            "19/19 [==============================] - 1s 65ms/step - loss: 0.0050 - accuracy: 0.9988 - val_loss: 0.0032 - val_accuracy: 0.9992\n",
            "Epoch 11/15\n",
            "19/19 [==============================] - 1s 66ms/step - loss: 0.0021 - accuracy: 0.9994 - val_loss: 0.0022 - val_accuracy: 0.9996\n",
            "Epoch 12/15\n",
            "19/19 [==============================] - 1s 65ms/step - loss: 7.8963e-04 - accuracy: 0.9998 - val_loss: 0.0012 - val_accuracy: 0.9992\n",
            "Epoch 13/15\n",
            "19/19 [==============================] - 1s 64ms/step - loss: 2.9741e-04 - accuracy: 1.0000 - val_loss: 8.0826e-04 - val_accuracy: 0.9996\n",
            "Epoch 14/15\n",
            "19/19 [==============================] - 1s 66ms/step - loss: 0.0012 - accuracy: 0.9998 - val_loss: 0.0021 - val_accuracy: 0.9996\n",
            "Epoch 15/15\n",
            "19/19 [==============================] - 1s 66ms/step - loss: 0.0341 - accuracy: 0.9930 - val_loss: 0.2942 - val_accuracy: 0.8837\n",
            "Accuracy: 0.8890295624732971\n",
            "cohen kappa scores: 0.7616607691431168\n",
            "confusion matrix \n",
            " [[ 716  263]\n",
            " [   0 1391]]\n",
            "Sensitivity :  0.7313585291113381\n",
            "Specificity :  1.0\n",
            "Epoch 1/15\n",
            "19/19 [==============================] - 2s 83ms/step - loss: 0.5882 - accuracy: 0.6963 - val_loss: 0.2381 - val_accuracy: 0.8908\n",
            "Epoch 2/15\n",
            "19/19 [==============================] - 1s 66ms/step - loss: 0.2260 - accuracy: 0.8973 - val_loss: 0.1423 - val_accuracy: 0.9389\n",
            "Epoch 3/15\n",
            "19/19 [==============================] - 1s 66ms/step - loss: 0.1098 - accuracy: 0.9579 - val_loss: 0.0539 - val_accuracy: 0.9794\n",
            "Epoch 4/15\n",
            "19/19 [==============================] - 1s 65ms/step - loss: 0.0442 - accuracy: 0.9866 - val_loss: 0.0495 - val_accuracy: 0.9797\n",
            "Epoch 5/15\n",
            "19/19 [==============================] - 1s 66ms/step - loss: 0.0242 - accuracy: 0.9914 - val_loss: 0.0108 - val_accuracy: 0.9966\n",
            "Epoch 6/15\n",
            "19/19 [==============================] - 1s 65ms/step - loss: 0.0076 - accuracy: 0.9984 - val_loss: 0.0038 - val_accuracy: 0.9985\n",
            "Epoch 7/15\n",
            "19/19 [==============================] - 1s 65ms/step - loss: 0.0031 - accuracy: 0.9995 - val_loss: 0.0012 - val_accuracy: 1.0000\n",
            "Epoch 8/15\n",
            "19/19 [==============================] - 1s 65ms/step - loss: 0.0013 - accuracy: 0.9997 - val_loss: 7.5411e-04 - val_accuracy: 1.0000\n",
            "Epoch 9/15\n",
            "19/19 [==============================] - 1s 65ms/step - loss: 0.0013 - accuracy: 1.0000 - val_loss: 0.0033 - val_accuracy: 0.9992\n",
            "Epoch 10/15\n",
            "19/19 [==============================] - 1s 65ms/step - loss: 7.4431e-04 - accuracy: 1.0000 - val_loss: 8.4591e-04 - val_accuracy: 0.9996\n",
            "Epoch 11/15\n",
            "19/19 [==============================] - 1s 65ms/step - loss: 0.0015 - accuracy: 0.9998 - val_loss: 0.0011 - val_accuracy: 0.9996\n",
            "Epoch 12/15\n",
            "19/19 [==============================] - 1s 66ms/step - loss: 3.8326e-04 - accuracy: 1.0000 - val_loss: 6.1392e-04 - val_accuracy: 1.0000\n",
            "Epoch 13/15\n",
            "19/19 [==============================] - 1s 66ms/step - loss: 1.7209e-04 - accuracy: 1.0000 - val_loss: 9.7323e-04 - val_accuracy: 0.9996\n",
            "Epoch 14/15\n",
            "19/19 [==============================] - 1s 64ms/step - loss: 1.5909e-04 - accuracy: 0.9999 - val_loss: 6.8505e-04 - val_accuracy: 0.9996\n",
            "Epoch 15/15\n",
            "19/19 [==============================] - 1s 65ms/step - loss: 9.4219e-05 - accuracy: 1.0000 - val_loss: 9.0611e-04 - val_accuracy: 0.9996\n",
            "Accuracy: 0.999578058719635\n",
            "cohen kappa scores: 0.9991299527531305\n",
            "confusion matrix \n",
            " [[ 979    0]\n",
            " [   1 1390]]\n",
            "Sensitivity :  1.0\n",
            "Specificity :  0.9992810927390366\n",
            "Epoch 1/15\n",
            "19/19 [==============================] - 2s 92ms/step - loss: 0.5682 - accuracy: 0.6676 - val_loss: 0.2931 - val_accuracy: 0.8811\n",
            "Epoch 2/15\n",
            "19/19 [==============================] - 1s 65ms/step - loss: 0.2481 - accuracy: 0.8901 - val_loss: 0.1292 - val_accuracy: 0.9460\n",
            "Epoch 3/15\n",
            "19/19 [==============================] - 1s 65ms/step - loss: 0.1347 - accuracy: 0.9441 - val_loss: 0.0782 - val_accuracy: 0.9737\n",
            "Epoch 4/15\n",
            "19/19 [==============================] - 1s 65ms/step - loss: 0.0663 - accuracy: 0.9752 - val_loss: 0.0838 - val_accuracy: 0.9677\n",
            "Epoch 5/15\n",
            "19/19 [==============================] - 1s 66ms/step - loss: 0.0301 - accuracy: 0.9899 - val_loss: 0.0202 - val_accuracy: 0.9940\n",
            "Epoch 6/15\n",
            "19/19 [==============================] - 1s 65ms/step - loss: 0.0127 - accuracy: 0.9965 - val_loss: 0.0181 - val_accuracy: 0.9947\n",
            "Epoch 7/15\n",
            "19/19 [==============================] - 1s 66ms/step - loss: 0.0095 - accuracy: 0.9972 - val_loss: 0.0071 - val_accuracy: 0.9989\n",
            "Epoch 8/15\n",
            "19/19 [==============================] - 1s 64ms/step - loss: 0.0038 - accuracy: 0.9990 - val_loss: 0.0328 - val_accuracy: 0.9910\n",
            "Epoch 9/15\n",
            "19/19 [==============================] - 1s 64ms/step - loss: 0.0081 - accuracy: 0.9975 - val_loss: 0.0055 - val_accuracy: 0.9989\n",
            "Epoch 10/15\n",
            "19/19 [==============================] - 1s 65ms/step - loss: 0.0035 - accuracy: 0.9994 - val_loss: 0.0076 - val_accuracy: 0.9985\n",
            "Epoch 11/15\n",
            "19/19 [==============================] - 1s 65ms/step - loss: 0.0059 - accuracy: 0.9984 - val_loss: 0.0069 - val_accuracy: 0.9981\n",
            "Epoch 12/15\n",
            "19/19 [==============================] - 1s 64ms/step - loss: 0.0013 - accuracy: 0.9996 - val_loss: 0.0080 - val_accuracy: 0.9977\n",
            "Epoch 13/15\n",
            "19/19 [==============================] - 1s 64ms/step - loss: 0.0034 - accuracy: 0.9986 - val_loss: 0.0088 - val_accuracy: 0.9981\n",
            "Epoch 14/15\n",
            "19/19 [==============================] - 1s 65ms/step - loss: 0.0035 - accuracy: 0.9991 - val_loss: 0.0104 - val_accuracy: 0.9966\n",
            "Epoch 15/15\n",
            "19/19 [==============================] - 1s 64ms/step - loss: 0.0050 - accuracy: 0.9981 - val_loss: 0.0314 - val_accuracy: 0.9929\n",
            "Accuracy: 0.9924050569534302\n",
            "cohen kappa scores: 0.9842987781313558\n",
            "confusion matrix \n",
            " [[ 962   17]\n",
            " [   1 1390]]\n",
            "Sensitivity :  0.982635342185904\n",
            "Specificity :  0.9992810927390366\n",
            "Epoch 1/15\n",
            "19/19 [==============================] - 2s 80ms/step - loss: 0.5819 - accuracy: 0.6449 - val_loss: 0.2777 - val_accuracy: 0.8721\n",
            "Epoch 2/15\n",
            "19/19 [==============================] - 1s 65ms/step - loss: 0.2558 - accuracy: 0.8847 - val_loss: 0.1816 - val_accuracy: 0.9179\n",
            "Epoch 3/15\n",
            "19/19 [==============================] - 1s 65ms/step - loss: 0.1359 - accuracy: 0.9435 - val_loss: 0.0638 - val_accuracy: 0.9734\n",
            "Epoch 4/15\n",
            "19/19 [==============================] - 1s 64ms/step - loss: 0.0467 - accuracy: 0.9843 - val_loss: 0.0398 - val_accuracy: 0.9887\n",
            "Epoch 5/15\n",
            "19/19 [==============================] - 1s 65ms/step - loss: 0.0200 - accuracy: 0.9944 - val_loss: 0.0134 - val_accuracy: 0.9959\n",
            "Epoch 6/15\n",
            "19/19 [==============================] - 1s 65ms/step - loss: 0.0151 - accuracy: 0.9950 - val_loss: 0.0294 - val_accuracy: 0.9906\n",
            "Epoch 7/15\n",
            "19/19 [==============================] - 1s 64ms/step - loss: 0.0161 - accuracy: 0.9950 - val_loss: 0.0109 - val_accuracy: 0.9966\n",
            "Epoch 8/15\n",
            "19/19 [==============================] - 1s 65ms/step - loss: 0.0095 - accuracy: 0.9971 - val_loss: 0.0105 - val_accuracy: 0.9955\n",
            "Epoch 9/15\n",
            "19/19 [==============================] - 1s 64ms/step - loss: 0.0063 - accuracy: 0.9986 - val_loss: 0.0054 - val_accuracy: 0.9989\n",
            "Epoch 10/15\n",
            "19/19 [==============================] - 1s 65ms/step - loss: 0.0018 - accuracy: 0.9998 - val_loss: 0.0039 - val_accuracy: 0.9992\n",
            "Epoch 11/15\n",
            "19/19 [==============================] - 1s 65ms/step - loss: 6.9585e-04 - accuracy: 0.9999 - val_loss: 0.0032 - val_accuracy: 0.9996\n",
            "Epoch 12/15\n",
            "19/19 [==============================] - 1s 63ms/step - loss: 0.0023 - accuracy: 0.9993 - val_loss: 0.0033 - val_accuracy: 0.9996\n",
            "Epoch 13/15\n",
            "19/19 [==============================] - 1s 64ms/step - loss: 0.0025 - accuracy: 0.9995 - val_loss: 0.0036 - val_accuracy: 0.9992\n",
            "Epoch 14/15\n",
            "19/19 [==============================] - 1s 65ms/step - loss: 4.6949e-04 - accuracy: 1.0000 - val_loss: 0.0025 - val_accuracy: 0.9996\n",
            "Epoch 15/15\n",
            "19/19 [==============================] - 1s 64ms/step - loss: 1.8786e-04 - accuracy: 1.0000 - val_loss: 0.0027 - val_accuracy: 0.9996\n",
            "Accuracy: 0.998734176158905\n",
            "cohen kappa scores: 0.9973898582593915\n",
            "confusion matrix \n",
            " [[ 978    1]\n",
            " [   2 1389]]\n",
            "Sensitivity :  0.9989785495403473\n",
            "Specificity :  0.9985621854780733\n"
          ],
          "name": "stdout"
        }
      ]
    },
    {
      "cell_type": "code",
      "metadata": {
        "colab": {
          "base_uri": "https://localhost:8080/",
          "height": 315
        },
        "id": "srkUqnLvWXoK",
        "outputId": "32939ff6-706e-4081-87b4-4dd642b5907a"
      },
      "source": [
        "##Plot results\n",
        "import matplotlib.pyplot as plt\n",
        "\n",
        "loss_train = hist.history['accuracy']\n",
        "loss_val = hist.history['val_accuracy']\n",
        "epochs = range(0,15)\n",
        "plt.plot(epochs, loss_train, 'g', label='training accuracy')\n",
        "plt.plot(epochs, loss_val, 'b', label='validation accuracy')\n",
        "#plt.title('Training and Validation accuracy')\n",
        "plt.xlabel('Epochs', fontsize=30, fontweight='bold')\n",
        "plt.ylabel('Accuracy',fontsize=30,  fontweight='bold')\n",
        "font = {'family' : 'normal',\n",
        "        'weight' : 'bold',\n",
        "        'size'   : 10}\n",
        "\n",
        "plt.rc('font', **font)\n",
        "\n",
        "plt.legend()\n",
        "plt.show()"
      ],
      "execution_count": null,
      "outputs": [
        {
          "output_type": "stream",
          "text": [
            "findfont: Font family ['normal'] not found. Falling back to DejaVu Sans.\n"
          ],
          "name": "stderr"
        },
        {
          "output_type": "display_data",
          "data": {
            "image/png": "[encoded data removed]",
            "text/plain": [
              "<Figure size 432x288 with 1 Axes>"
            ]
          },
          "metadata": {
            "tags": [],
            "needs_background": "light"
          }
        }
      ]
    },
    {
      "cell_type": "code",
      "metadata": {
        "id": "inQ_6i66XW_0"
      },
      "source": [
        ""
      ],
      "execution_count": null,
      "outputs": []
    },
    {
      "cell_type": "markdown",
      "metadata": {
        "id": "WsNdLzUZT2Yz"
      },
      "source": [
        "**K-Fold Cross Validation**"
      ]
    },
    {
      "cell_type": "code",
      "metadata": {
        "id": "SgA3yG8fT2AY"
      },
      "source": [
        "indices = np.arange(data.shape[0])\n",
        "np.random.shuffle(indices)\n",
        "data_cv = data[indices]\n",
        "y_cv = y[indices]"
      ],
      "execution_count": null,
      "outputs": []
    },
    {
      "cell_type": "code",
      "metadata": {
        "id": "xXxmNWxFT7QV"
      },
      "source": [
        "y_one_hot  = np.zeros((np.array(y_cv).shape[0],2))\n",
        "\n",
        "for i in range(np.array(y_cv).shape[0]):\n",
        "  label = y_cv[i]\n",
        "  y_one_hot[i][int(label)] = 1"
      ],
      "execution_count": null,
      "outputs": []
    },
    {
      "cell_type": "code",
      "metadata": {
        "colab": {
          "base_uri": "https://localhost:8080/",
          "height": 227
        },
        "id": "FzblYNWkT85J",
        "outputId": "5253a96a-045b-44a7-fe6e-16158f88f3b6"
      },
      "source": [
        "##Cross Validation\n",
        "folds=10\n",
        "kfold = StratifiedKFold(n_splits=folds, shuffle=True, random_state=1)\n",
        "#cvscores = []\n",
        "\n",
        "for train,test in kfold.split(data_cv,y_cv):\n",
        "  model=Sequential()\n",
        "  model.add(Conv1D(filters=20, kernel_size=5, activation='relu',input_shape=(651,15)))\n",
        "  model.add(MaxPooling1D(pool_size=3, strides = 3))\n",
        "  model.add(Conv1D(filters=60, kernel_size=5, activation='relu'))\n",
        "  #model.add(Dropout(0.7))\n",
        "  model.add(MaxPooling1D(pool_size=3, strides = 5))\n",
        "  model.add(Conv1D(filters=120, kernel_size=5,))\n",
        "  model.add(Conv1D(filters=120,kernel_size=7,))\n",
        "  model.add(Flatten())\n",
        "  model.add(Dense(2000, activation='relu'))\n",
        "  model.add(Dense(700, activation='relu'))\n",
        "  model.add(Dense(50,activation='relu'))\n",
        "  model.add(Dense(2,activation='sigmoid'))\n",
        "  \n",
        "  opt = keras.optimizers.Adam(learning_rate=0.0001)\n",
        "  model.compile(loss='categorical_crossentropy', optimizer=opt, metrics=['accuracy'])\n",
        "  #Train\n",
        "  model.fit(data_cv[train], y_one_hot[train],batch_size=1024,epochs=15,verbose=1)\n",
        "  #Test\n",
        "  test_loss, test_acc = model.evaluate(data_cv[test],y_one_hot[test],batch_size=8, verbose=1)\n",
        "  #Metrics\n",
        "  print('Accuracy:',test_acc)\n",
        "  Y_pred = model.predict_classes(data_cv[test])\n",
        "\n",
        "  K_cappa = sklearn.metrics.cohen_kappa_score(y_cv[test],Y_pred)\n",
        "  print(\"cohen kappa scores:\" ,K_cappa)\n",
        "\n",
        "  cm1 = confusion_matrix(y_cv[test],Y_pred)\n",
        "  print(\"confusion matrix \\n\",cm1)\n",
        "\n",
        "  sensitivity1 = cm1[0,0]/(cm1[0,0]+cm1[0,1])\n",
        "  print('Sensitivity : ', sensitivity1 )\n",
        "\n",
        "  specificity1 = cm1[1,1]/(cm1[1,0]+cm1[1,1])\n",
        "  print('Specificity : ', specificity1)\n",
        "\n",
        "  #cvscores.append(test_acc)\n",
        "  K.clear_session()"
      ],
      "execution_count": null,
      "outputs": [
        {
          "output_type": "error",
          "ename": "NameError",
          "evalue": "ignored",
          "traceback": [
            "\u001b[0;31m---------------------------------------------------------------------------\u001b[0m",
            "\u001b[0;31mNameError\u001b[0m                                 Traceback (most recent call last)",
            "\u001b[0;32m<ipython-input-3-699bb22fc711>\u001b[0m in \u001b[0;36m<module>\u001b[0;34m()\u001b[0m\n\u001b[1;32m      4\u001b[0m \u001b[0;31m#cvscores = []\u001b[0m\u001b[0;34m\u001b[0m\u001b[0;34m\u001b[0m\u001b[0;34m\u001b[0m\u001b[0m\n\u001b[1;32m      5\u001b[0m \u001b[0;34m\u001b[0m\u001b[0m\n\u001b[0;32m----> 6\u001b[0;31m \u001b[0;32mfor\u001b[0m \u001b[0mtrain\u001b[0m\u001b[0;34m,\u001b[0m\u001b[0mtest\u001b[0m \u001b[0;32min\u001b[0m \u001b[0mkfold\u001b[0m\u001b[0;34m.\u001b[0m\u001b[0msplit\u001b[0m\u001b[0;34m(\u001b[0m\u001b[0mdata_cv\u001b[0m\u001b[0;34m,\u001b[0m\u001b[0my_cv\u001b[0m\u001b[0;34m)\u001b[0m\u001b[0;34m:\u001b[0m\u001b[0;34m\u001b[0m\u001b[0;34m\u001b[0m\u001b[0m\n\u001b[0m\u001b[1;32m      7\u001b[0m   \u001b[0mmodel\u001b[0m\u001b[0;34m=\u001b[0m\u001b[0mSequential\u001b[0m\u001b[0;34m(\u001b[0m\u001b[0;34m)\u001b[0m\u001b[0;34m\u001b[0m\u001b[0;34m\u001b[0m\u001b[0m\n\u001b[1;32m      8\u001b[0m   \u001b[0mmodel\u001b[0m\u001b[0;34m.\u001b[0m\u001b[0madd\u001b[0m\u001b[0;34m(\u001b[0m\u001b[0mConv1D\u001b[0m\u001b[0;34m(\u001b[0m\u001b[0mfilters\u001b[0m\u001b[0;34m=\u001b[0m\u001b[0;36m20\u001b[0m\u001b[0;34m,\u001b[0m \u001b[0mkernel_size\u001b[0m\u001b[0;34m=\u001b[0m\u001b[0;36m5\u001b[0m\u001b[0;34m,\u001b[0m \u001b[0mactivation\u001b[0m\u001b[0;34m=\u001b[0m\u001b[0;34m'relu'\u001b[0m\u001b[0;34m,\u001b[0m\u001b[0minput_shape\u001b[0m\u001b[0;34m=\u001b[0m\u001b[0;34m(\u001b[0m\u001b[0;36m651\u001b[0m\u001b[0;34m,\u001b[0m\u001b[0;36m15\u001b[0m\u001b[0;34m)\u001b[0m\u001b[0;34m)\u001b[0m\u001b[0;34m)\u001b[0m\u001b[0;34m\u001b[0m\u001b[0;34m\u001b[0m\u001b[0m\n",
            "\u001b[0;31mNameError\u001b[0m: name 'data_cv' is not defined"
          ]
        }
      ]
    }
  ]
}