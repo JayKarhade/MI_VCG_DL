{
  "nbformat": 4,
  "nbformat_minor": 0,
  "metadata": {
    "colab": {
      "name": "MI_Localization_mode12.ipynb",
      "provenance": [],
      "mount_file_id": "16t-mtaTjIL4JCz791QpA0myTocAm_L8D",
      "authorship_tag": "ABX9TyPDNvpRP2Ax2afhN8P0sa3u",
      "include_colab_link": true
    },
    "kernelspec": {
      "name": "python3",
      "display_name": "Python 3"
    },
    "language_info": {
      "name": "python"
    },
    "accelerator": "GPU"
  },
  "cells": [
    {
      "cell_type": "markdown",
      "metadata": {
        "id": "view-in-github",
        "colab_type": "text"
      },
      "source": [
        "<a href=\"https://colab.research.google.com/github/JayKarhade/MI_VCG_DL/blob/main/MI_Localization_mode12.ipynb\" target=\"_parent\"><img src=\"https://colab.research.google.com/assets/colab-badge.svg\" alt=\"Open In Colab\"/></a>"
      ]
    },
    {
      "cell_type": "code",
      "metadata": {
        "id": "f_P986gbUzUR"
      },
      "source": [
        "import os \n",
        "import glob \n",
        "import PIL\n",
        "import sklearn\n",
        "import numpy as np\n",
        "import pandas as pd\n",
        "import scipy.io as sio \n",
        "import matplotlib.pyplot as plt\n",
        "import warnings \n",
        "import cv2\n",
        "from sklearn.model_selection import KFold\n",
        "from sklearn import preprocessing\n",
        "from sklearn.metrics import classification_report,confusion_matrix\n",
        "from sklearn.model_selection import train_test_split\n",
        "from sklearn import preprocessing\n",
        "from keras.models import Sequential,Model\n",
        "from keras.layers import Input, Dense, Activation, Flatten, Dropout,BatchNormalization\n",
        "from keras.layers.convolutional import Conv1D\n",
        "from keras.layers.convolutional import MaxPooling1D\n",
        "from keras.optimizers import SGD,Adam\n",
        "from keras.utils import np_utils\n",
        "from sklearn.utils import shuffle\n",
        "from PIL import Image\n",
        "from tensorflow.keras.regularizers import l2\n",
        "#from keras.utils import to_categorical\n",
        "from scipy.io import loadmat\n",
        "from keras import layers\n",
        "import keras\n",
        "from keras import backend as K\n",
        "from sklearn.model_selection import StratifiedKFold"
      ],
      "execution_count": null,
      "outputs": []
    },
    {
      "cell_type": "code",
      "metadata": {
        "id": "NIGHNIfpVBJQ",
        "colab": {
          "base_uri": "https://localhost:8080/"
        },
        "outputId": "6e5be3c6-ed93-48b2-d3ca-7897ca46ee4a"
      },
      "source": [
        "'''\n",
        "path1 = \"/content/drive/MyDrive/localization_mi/anterior_mi\"\n",
        "path2 = \"/content/drive/MyDrive/localization_mi/anterolateral_mi\"\n",
        "path3 = \"/content/drive/MyDrive/localization_mi/anteroseptal_mi\"\n",
        "path4 = \"/content/drive/MyDrive/localization_mi/inferior_mi\"\n",
        "path5 = \"/content/drive/MyDrive/localization_mi/inferolateral_mi\"\n",
        "path6 = \"/content/drive/MyDrive/localization_mi/infero_postero_lateral_mi\"\n",
        "my_list_class1 = os.listdir(path1)\n",
        "my_list_class2 = os.listdir(path2)\n",
        "my_list_class3 = os.listdir(path3)\n",
        "my_list_class4 = os.listdir(path4)\n",
        "my_list_class5 = os.listdir(path5)\n",
        "my_list_class6 = os.listdir(path6)\n",
        "\n",
        "data_load = []\n",
        "sum = 0\n",
        "y = []\n",
        "for i in range(len(my_list_class1)):\n",
        "  address = path1+'/'+my_list_class1[i]\n",
        "  temp_data = np.asarray(loadmat(address)['chm'].T)##Get each file content\n",
        "  for j in range(temp_data.shape[0]):\n",
        "    data_load.append(temp_data[j])##Append all instances in each .mat file to data_load\n",
        "    y.append(0)##Class Label\n",
        "  sum = sum + temp_data.shape[0]##Debugging step to make sure all instances are done\n",
        "\n",
        "for i in range(len(my_list_class2)):\n",
        "  address = path2+'/'+my_list_class2[i]\n",
        "  temp_data = np.asarray(loadmat(address)['chm'].T)##Get each file content\n",
        "  for j in range(temp_data.shape[0]):\n",
        "    data_load.append(temp_data[j])##Append all instances in each .mat file to data_load\n",
        "    y.append(1)##Class Label\n",
        "  sum = sum + temp_data.shape[0]##Debugging step to make sure all instances are done\n",
        "\n",
        "for i in range(len(my_list_class3)):\n",
        "  address = path3+'/'+my_list_class3[i]\n",
        "  temp_data = np.asarray(loadmat(address)['chm'].T)##Get each file content\n",
        "  for j in range(temp_data.shape[0]):\n",
        "    data_load.append(temp_data[j])##Append all instances in each .mat file to data_load\n",
        "    y.append(2)##Class Label\n",
        "  sum = sum + temp_data.shape[0]##Debugging step to make sure all instances are done\n",
        "\n",
        "for i in range(len(my_list_class4)):\n",
        "  address = path4+'/'+my_list_class4[i]\n",
        "  temp_data = np.asarray(loadmat(address)['chm'].T)##Get each file content\n",
        "  for j in range(temp_data.shape[0]):\n",
        "    data_load.append(temp_data[j])##Append all instances in each .mat file to data_load\n",
        "    y.append(3)##Class Label\n",
        "  sum = sum + temp_data.shape[0]##Debugging step to make sure all instances are done\n",
        "\n",
        "for i in range(len(my_list_class5)):\n",
        "  address = path5+'/'+my_list_class5[i]\n",
        "  temp_data = np.asarray(loadmat(address)['chm'].T)##Get each file content\n",
        "  for j in range(temp_data.shape[0]):\n",
        "    data_load.append(temp_data[j])##Append all instances in each .mat file to data_load\n",
        "    y.append(4)##Class Label\n",
        "  sum = sum + temp_data.shape[0]##Debugging step to make sure all instances are done\n",
        "\n",
        "for i in range(len(my_list_class6)):\n",
        "  address = path6+'/'+my_list_class6[i]\n",
        "  temp_data = np.asarray(loadmat(address)['chm'].T)##Get each file content\n",
        "  for j in range(temp_data.shape[0]):\n",
        "    data_load.append(temp_data[j])##Append all instances in each .mat file to data_load\n",
        "    y.append(5)##Class Label\n",
        "  sum = sum + temp_data.shape[0]##Debugging step to make sure all instances are done\n",
        "\n",
        "\n",
        "\n",
        "data_load = np.asarray(data_load)\n",
        "y = np.asarray(y)\n",
        "print(y.shape)\n",
        "print(data_load.shape)\n",
        "\n",
        "dataset = np.zeros([14336,6,651])\n",
        "\n",
        "for i in range(14336):\n",
        "  for j in range(3):\n",
        "    for k in range(2):\n",
        "      dataset[i,(2*j) + k] = data_load[i][j][k]\n",
        "\n",
        "data = np.zeros([14336,651,6])\n",
        "for i in range(14336):\n",
        "  data[i] = dataset[i].T\n",
        "\n",
        "np.save(\"/content/drive/MyDrive/MI_Files/MI_loc_label_mode12.npy\",y)\n",
        "np.save(\"/content/drive/MyDrive/MI_Files/MI_loc_data_mode12.npy\",data)\n",
        "'''"
      ],
      "execution_count": null,
      "outputs": [
        {
          "output_type": "stream",
          "text": [
            "(14336,)\n",
            "(14336, 3)\n"
          ],
          "name": "stdout"
        }
      ]
    },
    {
      "cell_type": "markdown",
      "metadata": {
        "id": "-rCO_Z7DWdYx"
      },
      "source": [
        "**Run from here**"
      ]
    },
    {
      "cell_type": "code",
      "metadata": {
        "id": "pqTjfJ10WfDH"
      },
      "source": [
        "data = np.load(\"/content/drive/MyDrive/MI_Files/MI_loc_data_mode12.npy\")\n",
        "y = np.load(\"/content/drive/MyDrive/MI_Files/MI_loc_label_mode12.npy\")"
      ],
      "execution_count": null,
      "outputs": []
    },
    {
      "cell_type": "code",
      "metadata": {
        "colab": {
          "base_uri": "https://localhost:8080/"
        },
        "id": "SCWrBCEzJNx8",
        "outputId": "b01c46c6-edee-4256-bc47-c100080d23f5"
      },
      "source": [
        "data.shape"
      ],
      "execution_count": null,
      "outputs": [
        {
          "output_type": "execute_result",
          "data": {
            "text/plain": [
              "(14336, 651, 6)"
            ]
          },
          "metadata": {
            "tags": []
          },
          "execution_count": 3
        }
      ]
    },
    {
      "cell_type": "code",
      "metadata": {
        "id": "ivwPr3EEWhYv"
      },
      "source": [
        ""
      ],
      "execution_count": null,
      "outputs": []
    },
    {
      "cell_type": "code",
      "metadata": {
        "id": "8ww4cDvNWjN6",
        "colab": {
          "base_uri": "https://localhost:8080/"
        },
        "outputId": "e99fe1db-f07d-40f4-c11e-02ea349c10b0"
      },
      "source": [
        "##Define model\n",
        "def model_define():\n",
        "  model=Sequential()\n",
        "  model.add(Conv1D(filters=20, kernel_size=5, activation='relu',input_shape=(651,6)))\n",
        "  model.add(MaxPooling1D(pool_size=3, strides = 3))\n",
        "  model.add(Conv1D(filters=60, kernel_size=5, activation='relu'))\n",
        "  #model.add(Dropout(0.7))\n",
        "  model.add(MaxPooling1D(pool_size=3, strides = 5))\n",
        "  model.add(Conv1D(filters=120, kernel_size=5,))\n",
        "  model.add(Conv1D(filters=120,kernel_size=7,))\n",
        "  model.add(Flatten())\n",
        "  model.add(Dense(2000, activation='relu'))\n",
        "  model.add(Dense(700, activation='relu'))\n",
        "  model.add(Dense(50,activation='relu'))\n",
        "  model.add(Dense(6,activation='sigmoid'))\n",
        "  return model\n",
        "\n",
        "k_sum = 0\n",
        "f1_sum = 0\n",
        "acc_sum = 0\n",
        "sens_sum = 0\n",
        "spec_sum = 0\n",
        "\n",
        "for i in range(5):\n",
        "  x_train, x_test, y_train, y_test = train_test_split(data, y, test_size=0.1, random_state=1)\n",
        "  x_train, x_val, y_train, y_val = train_test_split(x_train, y_train, test_size=1/8, random_state=1)\n",
        "\n",
        "\n",
        "  y_tr_one_hot  = np.zeros((np.array(y_train).shape[0],6))\n",
        "\n",
        "  for i in range(np.array(y_train).shape[0]):\n",
        "    label = y_train[i]\n",
        "    y_tr_one_hot[i][int(label)] = 1\n",
        "\n",
        "  y_val_one_hot  = np.zeros((np.array(y_val).shape[0],6))\n",
        "\n",
        "  for i in range(np.array(y_val).shape[0]):\n",
        "    label = y_val[i]\n",
        "    y_val_one_hot[i][int(label)] = 1\n",
        "  print(\"Trial:\",i)\n",
        "  K.clear_session()\n",
        "  modelf = model_define()\n",
        "\n",
        "  #print(modelf.summary())\n",
        "  optimizer = keras.optimizers.Adam(lr=0.00004)\n",
        "  modelf.compile(loss='categorical_crossentropy', optimizer='adam', metrics=['accuracy'])\n",
        "  modelf.fit(np.array(x_train), y_tr_one_hot, validation_data=(np.array(x_val), y_val_one_hot), epochs=15, batch_size=1024)\n",
        "\n",
        "  y_te_one_hot  = np.zeros((np.array(y_test).shape[0],6))\n",
        "\n",
        "  for i in range(np.array(y_test).shape[0]):\n",
        "    label = y_test[i]\n",
        "    y_te_one_hot[i][int(label)] = 1\n",
        "\n",
        "  test_loss, test_acc = modelf.evaluate(np.array(x_test), np.array(y_te_one_hot), verbose=0)\n",
        "  print('Accuracy:',test_acc)\n",
        "  acc_sum = acc_sum + test_acc\n",
        "\n",
        "  ##Evaluating Sensitivity, Accuracy and Kappa scores\n",
        "\n",
        "  Y_pred = modelf.predict_classes(x_test)\n",
        "\n",
        "  K_cappa = sklearn.metrics.cohen_kappa_score(y_test,Y_pred)\n",
        "  k_sum = k_sum+K_cappa\n",
        "  print(\"cohen kappa scores:\" ,K_cappa)\n",
        "\n",
        "  F1 = sklearn.metrics.f1_score(y_test,Y_pred,average=\"micro\")\n",
        "  f1_sum = f1_sum + F1\n",
        "  print(\"F1 scores:\", F1)\n",
        "\n",
        "  cm1 = confusion_matrix(y_test,Y_pred)\n",
        "  print(\"confusion matrix \\n\",cm1)\n",
        "\n",
        "  print(classification_report(y_test, Y_pred))"
      ],
      "execution_count": null,
      "outputs": [
        {
          "output_type": "stream",
          "text": [
            "Trial: 1612\n"
          ],
          "name": "stdout"
        },
        {
          "output_type": "stream",
          "text": [
            "/usr/local/lib/python3.7/dist-packages/tensorflow/python/keras/optimizer_v2/optimizer_v2.py:375: UserWarning: The `lr` argument is deprecated, use `learning_rate` instead.\n",
            "  \"The `lr` argument is deprecated, use `learning_rate` instead.\")\n"
          ],
          "name": "stderr"
        },
        {
          "output_type": "stream",
          "text": [
            "Epoch 1/15\n",
            "12/12 [==============================] - 3s 163ms/step - loss: 1.7073 - accuracy: 0.2881 - val_loss: 1.3336 - val_accuracy: 0.4755\n",
            "Epoch 2/15\n",
            "12/12 [==============================] - 1s 106ms/step - loss: 1.1654 - accuracy: 0.5441 - val_loss: 1.0160 - val_accuracy: 0.6063\n",
            "Epoch 3/15\n",
            "12/12 [==============================] - 1s 100ms/step - loss: 0.7844 - accuracy: 0.7050 - val_loss: 0.5771 - val_accuracy: 0.7669\n",
            "Epoch 4/15\n",
            "12/12 [==============================] - 1s 100ms/step - loss: 0.4999 - accuracy: 0.8216 - val_loss: 0.4048 - val_accuracy: 0.8475\n",
            "Epoch 5/15\n",
            "12/12 [==============================] - 1s 100ms/step - loss: 0.3416 - accuracy: 0.8803 - val_loss: 0.2581 - val_accuracy: 0.9126\n",
            "Epoch 6/15\n",
            "12/12 [==============================] - 1s 100ms/step - loss: 0.2096 - accuracy: 0.9341 - val_loss: 0.1957 - val_accuracy: 0.9299\n",
            "Epoch 7/15\n",
            "12/12 [==============================] - 1s 101ms/step - loss: 0.1520 - accuracy: 0.9467 - val_loss: 0.1248 - val_accuracy: 0.9566\n",
            "Epoch 8/15\n",
            "12/12 [==============================] - 1s 97ms/step - loss: 0.0871 - accuracy: 0.9719 - val_loss: 0.0703 - val_accuracy: 0.9808\n",
            "Epoch 9/15\n",
            "12/12 [==============================] - 1s 105ms/step - loss: 0.0525 - accuracy: 0.9862 - val_loss: 0.0269 - val_accuracy: 0.9963\n",
            "Epoch 10/15\n",
            "12/12 [==============================] - 1s 99ms/step - loss: 0.0209 - accuracy: 0.9958 - val_loss: 0.0150 - val_accuracy: 0.9988\n",
            "Epoch 11/15\n",
            "12/12 [==============================] - 1s 107ms/step - loss: 0.0113 - accuracy: 0.9980 - val_loss: 0.0123 - val_accuracy: 0.9975\n",
            "Epoch 12/15\n",
            "12/12 [==============================] - 1s 107ms/step - loss: 0.0080 - accuracy: 0.9987 - val_loss: 0.0087 - val_accuracy: 0.9981\n",
            "Epoch 13/15\n",
            "12/12 [==============================] - 1s 98ms/step - loss: 0.0052 - accuracy: 0.9994 - val_loss: 0.0077 - val_accuracy: 0.9994\n",
            "Epoch 14/15\n",
            "12/12 [==============================] - 1s 100ms/step - loss: 0.0031 - accuracy: 0.9998 - val_loss: 0.0063 - val_accuracy: 0.9994\n",
            "Epoch 15/15\n",
            "12/12 [==============================] - 1s 98ms/step - loss: 0.0021 - accuracy: 1.0000 - val_loss: 0.0053 - val_accuracy: 0.9994\n",
            "Accuracy: 0.9958158731460571\n"
          ],
          "name": "stdout"
        },
        {
          "output_type": "stream",
          "text": [
            "/usr/local/lib/python3.7/dist-packages/keras/engine/sequential.py:450: UserWarning: `model.predict_classes()` is deprecated and will be removed after 2021-01-01. Please use instead:* `np.argmax(model.predict(x), axis=-1)`,   if your model does multi-class classification   (e.g. if it uses a `softmax` last-layer activation).* `(model.predict(x) > 0.5).astype(\"int32\")`,   if your model does binary classification   (e.g. if it uses a `sigmoid` last-layer activation).\n",
            "  warnings.warn('`model.predict_classes()` is deprecated and '\n"
          ],
          "name": "stderr"
        },
        {
          "output_type": "stream",
          "text": [
            "cohen kappa scores: 0.9670280302422873\n",
            "F1 scores: 0.9728033472803347\n",
            "Sensitivity :  1.0\n",
            "Specificity :  0.9891891891891892\n",
            "confusion matrix \n",
            " [[162   0   0   0   0   0]\n",
            " [  2 183   0   0   1   0]\n",
            " [  0  27 270   0   0   0]\n",
            " [  0   0   0 286   1   0]\n",
            " [  0   0   0   1 300   1]\n",
            " [  0   0   0   1   5 194]]\n",
            "Trial: 1612\n",
            "Epoch 1/15\n",
            "12/12 [==============================] - 3s 153ms/step - loss: 1.6398 - accuracy: 0.2993 - val_loss: 1.2385 - val_accuracy: 0.5133\n",
            "Epoch 2/15\n",
            "12/12 [==============================] - 1s 97ms/step - loss: 1.0311 - accuracy: 0.5787 - val_loss: 0.6800 - val_accuracy: 0.7303\n",
            "Epoch 3/15\n",
            "12/12 [==============================] - 1s 99ms/step - loss: 0.5560 - accuracy: 0.7956 - val_loss: 0.4099 - val_accuracy: 0.8624\n",
            "Epoch 4/15\n",
            "12/12 [==============================] - 1s 100ms/step - loss: 0.2998 - accuracy: 0.8998 - val_loss: 0.2279 - val_accuracy: 0.9293\n",
            "Epoch 5/15\n",
            "12/12 [==============================] - 1s 100ms/step - loss: 0.1843 - accuracy: 0.9444 - val_loss: 0.1691 - val_accuracy: 0.9430\n",
            "Epoch 6/15\n",
            "12/12 [==============================] - 1s 99ms/step - loss: 0.1138 - accuracy: 0.9621 - val_loss: 0.0894 - val_accuracy: 0.9783\n",
            "Epoch 7/15\n",
            "12/12 [==============================] - 1s 102ms/step - loss: 0.0620 - accuracy: 0.9820 - val_loss: 0.0676 - val_accuracy: 0.9814\n",
            "Epoch 8/15\n",
            "12/12 [==============================] - 1s 100ms/step - loss: 0.0574 - accuracy: 0.9824 - val_loss: 0.0487 - val_accuracy: 0.9864\n",
            "Epoch 9/15\n",
            "12/12 [==============================] - 1s 100ms/step - loss: 0.0276 - accuracy: 0.9916 - val_loss: 0.0334 - val_accuracy: 0.9950\n",
            "Epoch 10/15\n",
            "12/12 [==============================] - 1s 100ms/step - loss: 0.0112 - accuracy: 0.9978 - val_loss: 0.0156 - val_accuracy: 0.9963\n",
            "Epoch 11/15\n",
            "12/12 [==============================] - 1s 101ms/step - loss: 0.0052 - accuracy: 0.9992 - val_loss: 0.0133 - val_accuracy: 0.9981\n",
            "Epoch 12/15\n",
            "12/12 [==============================] - 1s 100ms/step - loss: 0.0025 - accuracy: 0.9999 - val_loss: 0.0129 - val_accuracy: 0.9975\n",
            "Epoch 13/15\n",
            "12/12 [==============================] - 1s 107ms/step - loss: 0.0020 - accuracy: 0.9999 - val_loss: 0.0164 - val_accuracy: 0.9969\n",
            "Epoch 14/15\n",
            "12/12 [==============================] - 1s 100ms/step - loss: 0.0011 - accuracy: 1.0000 - val_loss: 0.0127 - val_accuracy: 0.9975\n",
            "Epoch 15/15\n",
            "12/12 [==============================] - 1s 101ms/step - loss: 6.5964e-04 - accuracy: 1.0000 - val_loss: 0.0131 - val_accuracy: 0.9975\n",
            "Accuracy: 0.9979079365730286\n",
            "cohen kappa scores: 0.7847955625524151\n",
            "F1 scores: 0.8221757322175731\n",
            "Sensitivity :  1.0\n",
            "Specificity :  0.8918918918918919\n",
            "confusion matrix \n",
            " [[162   0   0   0   0   0]\n",
            " [ 20 165   0   0   1   0]\n",
            " [ 31  60 206   0   0   0]\n",
            " [  0   9   1 277   0   0]\n",
            " [  0   2  15  39 246   0]\n",
            " [  0   0  59   0  18 123]]\n",
            "Trial: 1612\n",
            "Epoch 1/15\n",
            "12/12 [==============================] - 4s 154ms/step - loss: 1.6626 - accuracy: 0.2901 - val_loss: 1.2986 - val_accuracy: 0.4786\n",
            "Epoch 2/15\n",
            "12/12 [==============================] - 1s 100ms/step - loss: 1.1215 - accuracy: 0.5587 - val_loss: 0.9021 - val_accuracy: 0.6280\n",
            "Epoch 3/15\n",
            "12/12 [==============================] - 1s 100ms/step - loss: 0.7365 - accuracy: 0.7164 - val_loss: 0.5286 - val_accuracy: 0.8022\n",
            "Epoch 4/15\n",
            "12/12 [==============================] - 1s 100ms/step - loss: 0.4162 - accuracy: 0.8507 - val_loss: 0.2857 - val_accuracy: 0.9045\n",
            "Epoch 5/15\n",
            "12/12 [==============================] - 1s 101ms/step - loss: 0.2437 - accuracy: 0.9231 - val_loss: 0.1867 - val_accuracy: 0.9386\n",
            "Epoch 6/15\n",
            "12/12 [==============================] - 1s 107ms/step - loss: 0.1436 - accuracy: 0.9566 - val_loss: 0.1685 - val_accuracy: 0.9399\n",
            "Epoch 7/15\n",
            "12/12 [==============================] - 1s 99ms/step - loss: 0.1068 - accuracy: 0.9643 - val_loss: 0.1242 - val_accuracy: 0.9628\n",
            "Epoch 8/15\n",
            "12/12 [==============================] - 1s 101ms/step - loss: 0.0981 - accuracy: 0.9682 - val_loss: 0.0826 - val_accuracy: 0.9764\n",
            "Epoch 9/15\n",
            "12/12 [==============================] - 1s 102ms/step - loss: 0.0604 - accuracy: 0.9807 - val_loss: 0.0395 - val_accuracy: 0.9888\n",
            "Epoch 10/15\n",
            "12/12 [==============================] - 1s 100ms/step - loss: 0.0223 - accuracy: 0.9932 - val_loss: 0.0230 - val_accuracy: 0.9944\n",
            "Epoch 11/15\n",
            "12/12 [==============================] - 1s 101ms/step - loss: 0.0101 - accuracy: 0.9973 - val_loss: 0.0167 - val_accuracy: 0.9975\n",
            "Epoch 12/15\n",
            "12/12 [==============================] - 1s 100ms/step - loss: 0.0074 - accuracy: 0.9988 - val_loss: 0.0181 - val_accuracy: 0.9975\n",
            "Epoch 13/15\n",
            "12/12 [==============================] - 1s 100ms/step - loss: 0.0043 - accuracy: 0.9996 - val_loss: 0.0187 - val_accuracy: 0.9957\n",
            "Epoch 14/15\n",
            "12/12 [==============================] - 1s 100ms/step - loss: 0.0030 - accuracy: 0.9992 - val_loss: 0.0141 - val_accuracy: 0.9981\n",
            "Epoch 15/15\n",
            "12/12 [==============================] - 1s 100ms/step - loss: 0.0016 - accuracy: 0.9999 - val_loss: 0.0149 - val_accuracy: 0.9981\n",
            "Accuracy: 0.9979079365730286\n",
            "cohen kappa scores: 0.9636910934185028\n",
            "F1 scores: 0.9700139470013946\n",
            "Sensitivity :  1.0\n",
            "Specificity :  1.0\n",
            "confusion matrix \n",
            " [[162   0   0   0   0   0]\n",
            " [  0 185   0   1   0   0]\n",
            " [  0  37 260   0   0   0]\n",
            " [  0   3   0 284   0   0]\n",
            " [  0   1   0   0 300   1]\n",
            " [  0   0   0   0   0 200]]\n",
            "Trial: 1612\n",
            "Epoch 1/15\n",
            "12/12 [==============================] - 3s 153ms/step - loss: 1.7064 - accuracy: 0.2540 - val_loss: 1.3916 - val_accuracy: 0.4110\n",
            "Epoch 2/15\n",
            "12/12 [==============================] - 1s 101ms/step - loss: 1.1892 - accuracy: 0.5265 - val_loss: 0.8802 - val_accuracy: 0.6454\n",
            "Epoch 3/15\n",
            "12/12 [==============================] - 1s 101ms/step - loss: 0.7250 - accuracy: 0.7274 - val_loss: 0.5006 - val_accuracy: 0.8388\n",
            "Epoch 4/15\n",
            "12/12 [==============================] - 1s 100ms/step - loss: 0.4019 - accuracy: 0.8708 - val_loss: 0.3559 - val_accuracy: 0.8797\n",
            "Epoch 5/15\n",
            "12/12 [==============================] - 1s 101ms/step - loss: 0.2718 - accuracy: 0.9085 - val_loss: 0.2299 - val_accuracy: 0.9275\n",
            "Epoch 6/15\n",
            "12/12 [==============================] - 1s 100ms/step - loss: 0.1637 - accuracy: 0.9495 - val_loss: 0.2427 - val_accuracy: 0.9231\n",
            "Epoch 7/15\n",
            "12/12 [==============================] - 1s 100ms/step - loss: 0.2180 - accuracy: 0.9249 - val_loss: 0.2366 - val_accuracy: 0.9126\n",
            "Epoch 8/15\n",
            "12/12 [==============================] - 1s 100ms/step - loss: 0.1855 - accuracy: 0.9433 - val_loss: 0.0971 - val_accuracy: 0.9740\n",
            "Epoch 9/15\n",
            "12/12 [==============================] - 1s 100ms/step - loss: 0.1105 - accuracy: 0.9711 - val_loss: 0.0832 - val_accuracy: 0.9777\n",
            "Epoch 10/15\n",
            "12/12 [==============================] - 1s 101ms/step - loss: 0.0533 - accuracy: 0.9863 - val_loss: 0.0577 - val_accuracy: 0.9839\n",
            "Epoch 11/15\n",
            "12/12 [==============================] - 1s 100ms/step - loss: 0.0781 - accuracy: 0.9756 - val_loss: 0.0733 - val_accuracy: 0.9833\n",
            "Epoch 12/15\n",
            "12/12 [==============================] - 1s 106ms/step - loss: 0.0463 - accuracy: 0.9878 - val_loss: 0.0837 - val_accuracy: 0.9789\n",
            "Epoch 13/15\n",
            "12/12 [==============================] - 1s 100ms/step - loss: 0.0625 - accuracy: 0.9826 - val_loss: 0.0597 - val_accuracy: 0.9820\n",
            "Epoch 14/15\n",
            "12/12 [==============================] - 1s 101ms/step - loss: 0.0286 - accuracy: 0.9916 - val_loss: 0.0242 - val_accuracy: 0.9932\n",
            "Epoch 15/15\n",
            "12/12 [==============================] - 1s 100ms/step - loss: 0.0134 - accuracy: 0.9972 - val_loss: 0.0177 - val_accuracy: 0.9944\n",
            "Accuracy: 0.9958158731460571\n",
            "cohen kappa scores: 0.9949204175128702\n",
            "F1 scores: 0.99581589958159\n",
            "Sensitivity :  1.0\n",
            "Specificity :  0.9945945945945946\n",
            "confusion matrix \n",
            " [[162   0   0   0   0   0]\n",
            " [  1 184   0   0   1   0]\n",
            " [  0   0 296   1   0   0]\n",
            " [  0   1   0 285   1   0]\n",
            " [  0   0   0   0 301   1]\n",
            " [  0   0   0   0   0 200]]\n",
            "Trial: 1612\n",
            "Epoch 1/15\n",
            "12/12 [==============================] - 3s 154ms/step - loss: 1.6657 - accuracy: 0.2895 - val_loss: 1.2674 - val_accuracy: 0.4594\n",
            "Epoch 2/15\n",
            "12/12 [==============================] - 1s 99ms/step - loss: 1.1402 - accuracy: 0.5408 - val_loss: 0.8942 - val_accuracy: 0.6423\n",
            "Epoch 3/15\n",
            "12/12 [==============================] - 1s 98ms/step - loss: 0.7968 - accuracy: 0.7043 - val_loss: 0.5215 - val_accuracy: 0.8115\n",
            "Epoch 4/15\n",
            "12/12 [==============================] - 1s 107ms/step - loss: 0.4529 - accuracy: 0.8423 - val_loss: 0.3857 - val_accuracy: 0.8574\n",
            "Epoch 5/15\n",
            "12/12 [==============================] - 1s 101ms/step - loss: 0.2786 - accuracy: 0.9021 - val_loss: 0.2548 - val_accuracy: 0.9101\n",
            "Epoch 6/15\n",
            "12/12 [==============================] - 1s 100ms/step - loss: 0.1731 - accuracy: 0.9399 - val_loss: 0.1328 - val_accuracy: 0.9653\n",
            "Epoch 7/15\n",
            "12/12 [==============================] - 1s 100ms/step - loss: 0.0840 - accuracy: 0.9778 - val_loss: 0.0648 - val_accuracy: 0.9870\n",
            "Epoch 8/15\n",
            "12/12 [==============================] - 1s 101ms/step - loss: 0.0442 - accuracy: 0.9897 - val_loss: 0.0589 - val_accuracy: 0.9839\n",
            "Epoch 9/15\n",
            "12/12 [==============================] - 1s 100ms/step - loss: 0.0367 - accuracy: 0.9903 - val_loss: 0.0474 - val_accuracy: 0.9888\n",
            "Epoch 10/15\n",
            "12/12 [==============================] - 1s 100ms/step - loss: 0.0187 - accuracy: 0.9962 - val_loss: 0.0379 - val_accuracy: 0.9913\n",
            "Epoch 11/15\n",
            "12/12 [==============================] - 1s 99ms/step - loss: 0.0115 - accuracy: 0.9982 - val_loss: 0.0248 - val_accuracy: 0.9957\n",
            "Epoch 12/15\n",
            "12/12 [==============================] - 1s 101ms/step - loss: 0.0063 - accuracy: 0.9991 - val_loss: 0.0204 - val_accuracy: 0.9963\n",
            "Epoch 13/15\n",
            "12/12 [==============================] - 1s 100ms/step - loss: 0.0059 - accuracy: 0.9995 - val_loss: 0.0192 - val_accuracy: 0.9969\n",
            "Epoch 14/15\n",
            "12/12 [==============================] - 1s 100ms/step - loss: 0.0027 - accuracy: 0.9997 - val_loss: 0.0176 - val_accuracy: 0.9969\n",
            "Epoch 15/15\n",
            "12/12 [==============================] - 1s 99ms/step - loss: 0.0014 - accuracy: 1.0000 - val_loss: 0.0165 - val_accuracy: 0.9963\n",
            "Accuracy: 0.9965132474899292\n",
            "cohen kappa scores: 0.9813928359941397\n",
            "F1 scores: 0.9846582984658299\n",
            "Sensitivity :  1.0\n",
            "Specificity :  1.0\n",
            "confusion matrix \n",
            " [[162   0   0   0   0   0]\n",
            " [  0 184   0   1   1   0]\n",
            " [  0  17 280   0   0   0]\n",
            " [  0   0   0 285   2   0]\n",
            " [  0   0   0   0 301   1]\n",
            " [  0   0   0   0   0 200]]\n"
          ],
          "name": "stdout"
        }
      ]
    },
    {
      "cell_type": "code",
      "metadata": {
        "id": "iquRgT5HWlff",
        "colab": {
          "base_uri": "https://localhost:8080/"
        },
        "outputId": "04d20f68-c572-4515-e044-8abdb5091833"
      },
      "source": [
        "print(\"Average holdout accuracy score :\",acc_sum/5)\n",
        "print(\"Average holdout kappa score :\",k_sum/5)\n",
        "print(\"Average holdout f1 score :\",f1_sum/5)\n",
        "print(\"Average holdout sensitivity score :\",sens_sum/5)\n",
        "print(\"Average holdout specificity score :\",spec_sum/5)"
      ],
      "execution_count": null,
      "outputs": [
        {
          "output_type": "stream",
          "text": [
            "Average holdout accuracy score : 0.9967921733856201\n",
            "Average holdout kappa score : 0.9383655879440429\n",
            "Average holdout f1 score : 0.9490934449093444\n",
            "Average holdout sensitivity score : 1.0\n",
            "Average holdout specificity score : 0.9751351351351352\n"
          ],
          "name": "stdout"
        }
      ]
    },
    {
      "cell_type": "markdown",
      "metadata": {
        "id": "w5Fup3i5WoTG"
      },
      "source": [
        "**K fold Cross Validation**"
      ]
    },
    {
      "cell_type": "code",
      "metadata": {
        "id": "UH1zeZwdWq53"
      },
      "source": [
        "indices = np.arange(data.shape[0])\n",
        "np.random.shuffle(indices)\n",
        "data_cv = data[indices]\n",
        "y_cv = y[indices]"
      ],
      "execution_count": null,
      "outputs": []
    },
    {
      "cell_type": "code",
      "metadata": {
        "id": "84X3vWAUWsrP"
      },
      "source": [
        "y_one_hot  = np.zeros((np.array(y_cv).shape[0],6))\n",
        "\n",
        "for i in range(np.array(y_cv).shape[0]):\n",
        "  label = y_cv[i]\n",
        "  y_one_hot[i][int(label)] = 1"
      ],
      "execution_count": null,
      "outputs": []
    },
    {
      "cell_type": "code",
      "metadata": {
        "id": "jkd1AiuRWuYm"
      },
      "source": [
        "##Cross Validation\n",
        "folds=10\n",
        "k_cv_sum = 0\n",
        "f1_cv_sum = 0\n",
        "acc_cv_sum = 0\n",
        "sens_cv_sum = 0\n",
        "spec_cv_sum = 0\n",
        "\n",
        "kfold = StratifiedKFold(n_splits=folds, shuffle=True, random_state=1)\n",
        "#cvscores = []\n",
        "\n",
        "for train,test in kfold.split(data_cv,y_cv):\n",
        "  model=Sequential()\n",
        "  model.add(Conv1D(filters=20, kernel_size=5, activation='relu',input_shape=(651,15)))\n",
        "  model.add(MaxPooling1D(pool_size=3, strides = 3))\n",
        "  model.add(Conv1D(filters=60, kernel_size=5, activation='relu'))\n",
        "  #model.add(Dropout(0.7))\n",
        "  model.add(MaxPooling1D(pool_size=3, strides = 5))\n",
        "  model.add(Conv1D(filters=120, kernel_size=5,))\n",
        "  model.add(Conv1D(filters=120,kernel_size=7,))\n",
        "  model.add(Flatten())\n",
        "  model.add(Dense(2000, activation='relu'))\n",
        "  model.add(Dense(700, activation='relu'))\n",
        "  model.add(Dense(50,activation='relu'))\n",
        "  model.add(Dense(6,activation='sigmoid'))\n",
        "  \n",
        "  opt = keras.optimizers.Adam(learning_rate=0.0001)\n",
        "  model.compile(loss='categorical_crossentropy', optimizer=opt, metrics=['accuracy'])\n",
        "  #Train\n",
        "  model.fit(x_cv[train], y_one_hot[train],batch_size=256,epochs=15,verbose=1)\n",
        "  #Test\n",
        "  test_loss, test_acc = model.evaluate(data_cv[test],y_one_hot[test],batch_size=8, verbose=1)\n",
        "  #Metrics\n",
        "  print('Accuracy:',test_acc)\n",
        "  acc_cv_sum = acc_cv_sum + test_acc\n",
        "  Y_pred = model.predict_classes(data_cv[test])\n",
        "\n",
        "  K_cappa = sklearn.metrics.cohen_kappa_score(y_cv[test],Y_pred)\n",
        "  k_cv_sum = k_cv_sum+K_cappa\n",
        "  print(\"cohen kappa scores:\" ,K_cappa)\n",
        "\n",
        "  F1 = sklearn.metrics.f1_score(y_cv[test],Y_pred,average=\"micro\")\n",
        "  f1_cv_sum = f1_cv_sum + F1\n",
        "  print(\"F1 scores:\", F1)\n",
        "\n",
        "  cm1 = confusion_matrix(y_cv[test],Y_pred)\n",
        "  print(\"confusion matrix \\n\",cm1)\n",
        "\n",
        "  sensitivity1 = cm1[0,0]/(cm1[0,0]+cm1[0,1])\n",
        "  sens_cv_sum = sens_cv_sum + sensitivity1\n",
        "  print('Sensitivity : ', sensitivity1 )\n",
        "\n",
        "  specificity1 = cm1[1,1]/(cm1[1,0]+cm1[1,1])\n",
        "  spec_cv_sum = spec_cv_sum + specificity1\n",
        "  print('Specificity : ', specificity1)\n",
        "\n",
        "  #cvscores.append(test_acc)\n",
        "  K.clear_session()"
      ],
      "execution_count": null,
      "outputs": []
    },
    {
      "cell_type": "code",
      "metadata": {
        "id": "uN2vrrCCW0_J"
      },
      "source": [
        "print(\"Average 10 cv  accuracy score :\",acc_cv_sum/10)\n",
        "print(\"Average 10 cv  kappa score :\",k_cv_sum/10)\n",
        "print(\"Average 10 cv  f1 score :\",f1_cv_sum/10)\n",
        "print(\"Average 10 cv  sensitivity score :\",sens_cv_sum/10)\n",
        "print(\"Average 10 cv  specificity score :\",spec_cv_sum/10)"
      ],
      "execution_count": null,
      "outputs": []
    }
  ]
}